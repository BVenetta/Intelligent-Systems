{
 "cells": [
  {
   "cell_type": "markdown",
   "metadata": {},
   "source": [
    "# Intelligent Systems 2020: 4rd  practical assignment \n",
    "## Logical Agents\n",
    "\n",
    "Your name: Seeun Park\n",
    "\n",
    "Your VUnetID: spk760\n",
    "\n",
    "If you do not provide your name and VUnetID we will not accept your submission. \n",
    "\n",
    "### Learning objectives\n",
    "At the end of this exercise you should be able to work with logical agents on the Schnapsen platform\n",
    "\n",
    "1. Be able to apply a SAT solver to check for satisfiability and entailment (bots)\n",
    "2. Apply a SAT solver for build an knowledge-based agent for playing Schnapsen. \n",
    "3. Build own variants of a knowledge-based agent for Schnapsen. \n",
    "\n",
    "### Preliminaries\n",
    "\n",
    "In this worksheet we'll use Propositional Logic and a specific version of a Propositional Logic solver (SMT solver) to build a fully knowledge based agent playing Schnapsen. The idea is to represent the strategies humans apply to play the game and to apply logical reasoning to identify good, bad, safe or risky moves, whatever you wish to model. \n",
    "This kind of reasoning---setting up logical statements and proving unsatisfiability. \n",
    "\n",
    "First things first, let's deal with dependencies for using the kb bot, namely numpy and scipy. They should be installed fairly easily via \"pip install numpy\", \"pip install scipy\".\n",
    "\n",
    "\n",
    "### Practicalities\n",
    "\n",
    "Follow this Notebook step-by-step. \n",
    "\n",
    "Of course, you can do the exercises in any Programming Editor of your liking. But you do not have to. Feel free to simply write code in the Notebook. Please use your studentID+Assignment4.ipynb as the name of the Notebook.  \n",
    "\n",
    "Note: unlike the courses dedicated to programming we will not evaluate the style of the programs. But we will, however, test your programs on other data that we provide, and your program should give the correct output to the test-data as well.\n",
    "\n",
    "As was mentioned, the assignment is graded as pass/fail. To pass you need to have either a full working code or an explanation of what you tried and what didn't work for the tasks that you were unable to complete (you can use multi-line comments or a text cell).\n",
    "\n",
    "## Initialising \n",
    "\n",
    "First, let us make sure the necessary packages are installed, and imported. Run the following code:"
   ]
  },
  {
   "cell_type": "code",
   "execution_count": 1,
   "metadata": {},
   "outputs": [],
   "source": [
    "import sys, random\n",
    "from bots.kbbot.kb import KB, Boolean, Integer, Constant\n",
    "from api import State, engine, util"
   ]
  },
  {
   "cell_type": "markdown",
   "metadata": {},
   "source": [
    "## SAT solving and Entailment checking \n",
    "\n",
    "We will start with some exercises to use an existing SAT solver to check for satisfiability and entailment. "
   ]
  },
  {
   "cell_type": "code",
   "execution_count": 2,
   "metadata": {},
   "outputs": [],
   "source": [
    "# Define our symbols\n",
    "A = Boolean('A')\n",
    "B = Boolean('B')\n",
    "C = Boolean('C')\n",
    "D = Boolean('D')\n",
    "P = Boolean('P')\n",
    "Q = Boolean('Q')\n",
    "R = Boolean('R')\n",
    "\n",
    "# Create a new knowledge base\n",
    "kb = KB()\n",
    "\n",
    "# Add clauses\n",
    "kb.add_clause(A, B, C)\n",
    "kb.add_clause(~A, B)\n",
    "kb.add_clause(~B, C)\n",
    "kb.add_clause(~B, ~C)"
   ]
  },
  {
   "cell_type": "markdown",
   "metadata": {},
   "source": [
    "This file first defines the three boolean symbols we will use (A, B and C), creates an empty knowledge base, and then adds the four following clauses:\n",
    "> A or B or C <br>\n",
    "> (not A) or B <br>\n",
    "> (not B) or C<br>\n",
    "> B or not C\n",
    "\n",
    "### Task 1\n",
    "Are there any models (assignments of values to these variables that make all clauses true)? Write down all the models of the knolwedge base in the following cell. "
   ]
  },
  {
   "cell_type": "raw",
   "metadata": {},
   "source": [
    "A & B & C\n",
    "-A & B & C"
   ]
  },
  {
   "cell_type": "markdown",
   "metadata": {},
   "source": [
    "Now run the script and report the output in the cell after the code. Explain what it means.  "
   ]
  },
  {
   "cell_type": "code",
   "execution_count": 3,
   "metadata": {},
   "outputs": [
    {
     "name": "stdout",
     "output_type": "stream",
     "text": [
      "{A: False, B: False, C: True}\n",
      "True\n"
     ]
    }
   ],
   "source": [
    "# Print all models of the knowledge base\n",
    "for model in kb.models():\n",
    "    print(model)\n",
    "\n",
    "# Print out whether the KB is satisfiable (if there are no models, it is not satisfiable)\n",
    "print(kb.satisfiable())\n"
   ]
  },
  {
   "cell_type": "raw",
   "metadata": {},
   "source": [
    "The output is all the models that make all the clauses true. Therefore, these two models are the ones that are satisfiable."
   ]
  },
  {
   "cell_type": "markdown",
   "metadata": {},
   "source": [
    "Now it is time to adapt your first knowledge-base, by adding stuff…. \n",
    "\n",
    "## Tasks 2: \n",
    "Add a clause to the knowledge base to that it becomes unsatisfiable. Report the line of code you added, and in a separate line, the result that you get from the SAT solver and your script. "
   ]
  },
  {
   "cell_type": "raw",
   "metadata": {},
   "source": [
    "KB Clause Added: kb.add_clause(~B, ~C)\n",
    "Output: False"
   ]
  },
  {
   "cell_type": "markdown",
   "metadata": {},
   "source": [
    "Now you can already to build your own knowledge base, and do reasoning/inferencing with it. For example, check satisfiability of one of the questions of the working group automatically. \n"
   ]
  },
  {
   "cell_type": "markdown",
   "metadata": {},
   "source": [
    "### Task 3:\n",
    "Let  KB be the  knowledge base introduced in Exercise 7 of the Worksheet on Logical Agents: KB=\n",
    "> (P v Q) ^ (Q -> R) ^ (R -> -P)<br>\n",
    "> -(P <-> - Q)\n",
    "\n",
    "Write a new version of the script above to prove or disprove whether KB is satisfiable or not. You can put both the knowledge base construction (you will have to translate the axioms into CNF by hand before adding them to the KB), the printing of the model and the satisfiability check in the next cell. \n"
   ]
  },
  {
   "cell_type": "code",
   "execution_count": 4,
   "metadata": {},
   "outputs": [
    {
     "name": "stdout",
     "output_type": "stream",
     "text": [
      "False\n"
     ]
    }
   ],
   "source": [
    "P = Boolean('P')\n",
    "Q = Boolean('Q')\n",
    "R = Boolean('R')\n",
    "\n",
    "kb.add_clause(P, Q)\n",
    "\n",
    "kb.add_clause(~Q, R)\n",
    "\n",
    "kb.add_clause(~R, ~P) \n",
    "\n",
    "kb.add_clause(P, ~Q)\n",
    "\n",
    "kb.add_clause(Q, ~P)\n",
    "\n",
    "# Print all models of the knowledge base\n",
    "for model in kb.models():\n",
    "    print(model)\n",
    "\n",
    "# Print out whether the KB is satisfiable (if there are no models, it is not satisfiable)\n",
    "print(kb.satisfiable())\n"
   ]
  },
  {
   "cell_type": "markdown",
   "metadata": {},
   "source": [
    "### Task 4: \n",
    "Exercise 9 of this week's work session on logical agents contained the following knowledge base KB:\n",
    "\n",
    ">-A -> B <br> \n",
    "> B -> A <br>\n",
    "> A -> (C ^ D)\n",
    "\n",
    "Convert it to clause normal form, and write a script that creates this knowledge base as you did before. There are different subtasks: \n",
    "1) Print out its models and report them. <br>\n",
    "2) As seen in the exercise, the knowledge base entails A ^ C ^ D. Explain in your own words what this says about the possible models for the knowledge base?\n",
    "\n"
   ]
  },
  {
   "cell_type": "raw",
   "metadata": {},
   "source": [
    "A = Boolean('A')\n",
    "B = Boolean('B')\n",
    "C = Boolean('C')\n",
    "D = Boolean('D')\n",
    "\n",
    "kb.add_clause(A, B)\n",
    "kb.add_clause(~B, A)\n",
    "kb.add_clause(~A, C)\n",
    "kb.add_clause(~A, D)\n",
    "\n",
    "\n",
    "Output:\n",
    "{A: True, D: True, C: True, B: False}\n",
    "{A: True, D: True, C: True, B: True}\n",
    "True\n",
    "\n",
    "Report:\n",
    "There are two models. Therefore, A & C & D is true for KB."
   ]
  },
  {
   "cell_type": "markdown",
   "metadata": {},
   "source": [
    "In the previous question, you have shown that A ^ C ^ D is entailed by KB semantically (following the definition of entailment), where you used the prover to give you all the models. Now let us see whether you can actually prove entailment using the SAT solver directly.\n",
    "\n",
    "### Task 5: \n",
    "Show entailment of A ^ C ^ D by a proof by refutation. Write the script like above with the knowledge base your create in the following executable cell, including the control statements. \n"
   ]
  },
  {
   "cell_type": "code",
   "execution_count": 5,
   "metadata": {},
   "outputs": [
    {
     "name": "stdout",
     "output_type": "stream",
     "text": [
      "False\n"
     ]
    }
   ],
   "source": [
    "kb.add_clause(A, B)\n",
    "kb.add_clause(~B, A)\n",
    "kb.add_clause(~A, C)\n",
    "kb.add_clause(~A, D)\n",
    "kb.add_clause(~A, ~C, ~D)\n",
    "\n",
    "# Print all models of the knowledge base\n",
    "for model in kb.models():\n",
    "    print(model)\n",
    "\n",
    "# Print out whether the KB is satisfiable (if there are no models, it is not satisfiable)\n",
    "print(kb.satisfiable())"
   ]
  },
  {
   "cell_type": "markdown",
   "metadata": {},
   "source": [
    "Explain in your own words what you have done, and what you can conclude from the output of your script for Task 5."
   ]
  },
  {
   "cell_type": "raw",
   "metadata": {},
   "source": [
    "By adding  -A v -C v -D the KB and not sentence was False, thus it is entailed."
   ]
  },
  {
   "cell_type": "markdown",
   "metadata": {},
   "source": [
    "## Implementing Schnapsen with an existing SAT solver\n",
    "\n",
    "Now, we are ready to create a bot that used a knowledge base. Let us first see how we can represent some of the knowledge needed for making strategic decisions in propositional logic. \n",
    "\n",
    "The idea is that you check with a SAT reasoner, which we provide, whether a knowledge base entails that a certain move adhere to a certain strategy. In the followng example this strategy is trivial, namely a card adheres to the PlayJack strategy if it is a Jack. So, all we have to model is which card is a Jack (cards with index 4,9,14 and 19) and that \n",
    "\n",
    "> For all x the following holds PlayJack(x) <-> Jack(x)\n",
    "\n",
    "This formula is, of course, not in Propositional Logic, but needs to be translated, which results in many different clauses (once transferred into Clause Normal Form). Once this is done, we can check that PlayJack(4) is entailed by the knowledge base,  while PlayJack(5) is not. We do this by adding the negated propositional variables pj4 or pj5 to the knowledge base and check for satisfiability (proof by refutation) as we did before. \n",
    "\n",
    "### Task 6\n",
    "Copy the outcome of the entailment test for pj4 and pj5 into the cell after the code/result, and explain in your own words what it means. "
   ]
  },
  {
   "cell_type": "code",
   "execution_count": 6,
   "metadata": {},
   "outputs": [
    {
     "name": "stdout",
     "output_type": "stream",
     "text": [
      "{j4: True, pj4: True, j9: True, pj9: True, j14: True, pj14: True, j19: True, pj19: True, pj5: False}\n",
      "True\n"
     ]
    }
   ],
   "source": [
    "import sys\n",
    "from bots.kbbot.kb import KB, Boolean, Integer, Constant\n",
    "\n",
    "# Define our propositional symbols\n",
    "# J1 is true if the card with index 1 is a jack, etc\n",
    "# You need to initialise all variables that you need for you strategies and game knowledge.\n",
    "# Add those variables here.. The following list is complete for the Play Jack strategy.\n",
    "J0 = Boolean('j0')\n",
    "J1 = Boolean('j1')\n",
    "J2 = Boolean('j2')\n",
    "J3 = Boolean('j3')\n",
    "J4 = Boolean('j4')\n",
    "J5 = Boolean('j5')\n",
    "J6 = Boolean('j6')\n",
    "J7 = Boolean('j7')\n",
    "J8 = Boolean('j8')\n",
    "J9 = Boolean('j9')\n",
    "J10 = Boolean('j10')\n",
    "J11 = Boolean('j11')\n",
    "J12 = Boolean('j12')\n",
    "J13 = Boolean('j13')\n",
    "J14 = Boolean('j14')\n",
    "J15 = Boolean('j15')\n",
    "J16 = Boolean('j16')\n",
    "J17 = Boolean('j17')\n",
    "J18 = Boolean('j18')\n",
    "J19 = Boolean('j19')\n",
    "PJ0 = Boolean('pj0')\n",
    "PJ1 = Boolean('pj1')\n",
    "PJ2 = Boolean('pj2')\n",
    "PJ3 = Boolean('pj3')\n",
    "PJ4 = Boolean('pj4')\n",
    "PJ5 = Boolean('pj5')\n",
    "PJ6 = Boolean('pj6')\n",
    "PJ7 = Boolean('pj7')\n",
    "PJ8 = Boolean('pj8')\n",
    "PJ9 = Boolean('pj9')\n",
    "PJ10 = Boolean('pj10')\n",
    "PJ11 = Boolean('pj11')\n",
    "PJ12 = Boolean('pj12')\n",
    "PJ13 = Boolean('pj13')\n",
    "PJ14 = Boolean('pj14')\n",
    "PJ15 = Boolean('pj15')\n",
    "PJ16 = Boolean('pj16')\n",
    "PJ17 = Boolean('pj17')\n",
    "PJ18 = Boolean('pj18')\n",
    "PJ19 = Boolean('pj19')\n",
    "\n",
    "# Create a new knowledge base\n",
    "kb = KB()\n",
    "\n",
    "# GENERAL INFORMATION ABOUT THE CARDS\n",
    "# This adds information which cards are Jacks\n",
    "kb.add_clause(J4)\n",
    "kb.add_clause(J9)\n",
    "kb.add_clause(J14)\n",
    "kb.add_clause(J19)\n",
    "# Add here whatever is needed for your strategy.\n",
    "\n",
    "# DEFINITION OF THE STRATEGY\n",
    "# Add clauses (This list is sufficient for this strategy)\n",
    "# PJ is the strategy to play jacks first, so all we need to model is all x PJ(x) <-> J(x),\n",
    "# In other words that the PJ strategy should play a card when it is a jack\n",
    "kb.add_clause(~J4, PJ4)\n",
    "kb.add_clause(~J9, PJ9)\n",
    "kb.add_clause(~J14, PJ14)\n",
    "kb.add_clause(~J19, PJ19)\n",
    "kb.add_clause(~PJ4, J4)\n",
    "kb.add_clause(~PJ9, J9)\n",
    "kb.add_clause(~PJ14, J14)\n",
    "kb.add_clause(~PJ19, J19)\n",
    "# Add here other strategies\n",
    "\n",
    "# check for entailment (add negation of the to be entailed formula)\n",
    "kb.add_clause(~PJ5)\n",
    "# print all models of the knowledge base\n",
    "for model in kb.models():\n",
    "    print(model)\n",
    "\n",
    "# print out whether the KB is satisfiable (if there are no models, it is not satisfiable)\n",
    "print(kb.satisfiable())\n"
   ]
  },
  {
   "cell_type": "markdown",
   "metadata": {},
   "source": [
    "PJ4 Output: \n",
    "False\n",
    "Entailed.\n",
    "\n",
    "PJ5 Output: \n",
    "{j4: True, pj4: True, j9: True, pj9: True, j14: True, pj14: True, j19: True, pj19: True, pj5: False}\n",
    "True\n",
    "Not entailed, because J5 is not a Jack. Since PJ is a strategy to play a Jack this is not entailed."
   ]
  },
  {
   "cell_type": "markdown",
   "metadata": {},
   "source": [
    "### Task 7 \n",
    "\n",
    "Provide the executable cell below a new version of the above script with the knowledge for a strategy PlayAs, always playing an Ace first. Check whether you can do reasoning to check whether a card is entailed by the knowledge base or not. Again, print the result for a check with an Ace as well as with a card differen from an Ace. \n"
   ]
  },
  {
   "cell_type": "code",
   "execution_count": 7,
   "metadata": {},
   "outputs": [
    {
     "name": "stdout",
     "output_type": "stream",
     "text": [
      "{j0: True, pj0: True, j5: True, pj5: True, j10: True, pj10: True, j15: True, pj15: True, pj1: False}\n",
      "True\n"
     ]
    }
   ],
   "source": [
    "import sys\n",
    "from bots.kbbot.kb import KB, Boolean, Integer, Constant\n",
    "\n",
    "# Define our propositional symbols\n",
    "# J1 is true if the card with index 1 is a jack, etc\n",
    "# You need to initialise all variables that you need for you strategies and game knowledge.\n",
    "# Add those variables here.. The following list is complete for the Play Jack strategy.\n",
    "J0 = Boolean('j0')\n",
    "J1 = Boolean('j1')\n",
    "J2 = Boolean('j2')\n",
    "J3 = Boolean('j3')\n",
    "J4 = Boolean('j4')\n",
    "J5 = Boolean('j5')\n",
    "J6 = Boolean('j6')\n",
    "J7 = Boolean('j7')\n",
    "J8 = Boolean('j8')\n",
    "J9 = Boolean('j9')\n",
    "J10 = Boolean('j10')\n",
    "J11 = Boolean('j11')\n",
    "J12 = Boolean('j12')\n",
    "J13 = Boolean('j13')\n",
    "J14 = Boolean('j14')\n",
    "J15 = Boolean('j15')\n",
    "J16 = Boolean('j16')\n",
    "J17 = Boolean('j17')\n",
    "J18 = Boolean('j18')\n",
    "J19 = Boolean('j19')\n",
    "PJ0 = Boolean('pj0')\n",
    "PJ1 = Boolean('pj1')\n",
    "PJ2 = Boolean('pj2')\n",
    "PJ3 = Boolean('pj3')\n",
    "PJ4 = Boolean('pj4')\n",
    "PJ5 = Boolean('pj5')\n",
    "PJ6 = Boolean('pj6')\n",
    "PJ7 = Boolean('pj7')\n",
    "PJ8 = Boolean('pj8')\n",
    "PJ9 = Boolean('pj9')\n",
    "PJ10 = Boolean('pj10')\n",
    "PJ11 = Boolean('pj11')\n",
    "PJ12 = Boolean('pj12')\n",
    "PJ13 = Boolean('pj13')\n",
    "PJ14 = Boolean('pj14')\n",
    "PJ15 = Boolean('pj15')\n",
    "PJ16 = Boolean('pj16')\n",
    "PJ17 = Boolean('pj17')\n",
    "PJ18 = Boolean('pj18')\n",
    "PJ19 = Boolean('pj19')\n",
    "\n",
    "# Create a new knowledge base\n",
    "kb = KB()\n",
    "\n",
    "# GENERAL INFORMATION ABOUT THE CARDS\n",
    "# This adds information which cards are Jacks\n",
    "kb.add_clause(J0)\n",
    "kb.add_clause(J5)\n",
    "kb.add_clause(J10)\n",
    "kb.add_clause(J15)\n",
    "# Add here whatever is needed for your strategy.\n",
    "\n",
    "# DEFINITION OF THE STRATEGY\n",
    "# Add clauses (This list is sufficient for this strategy)\n",
    "# PJ is the strategy to play jacks first, so all we need to model is all x PJ(x) <-> J(x),\n",
    "# In other words that the PJ strategy should play a card when it is a jack\n",
    "kb.add_clause(~J0, PJ0)\n",
    "kb.add_clause(~J5, PJ5)\n",
    "kb.add_clause(~J10, PJ10)\n",
    "kb.add_clause(~J15, PJ15)\n",
    "kb.add_clause(~PJ0, J0)\n",
    "kb.add_clause(~PJ5, J5)\n",
    "kb.add_clause(~PJ10, J10)\n",
    "kb.add_clause(~PJ15, J15)\n",
    "# Add here other strategies\n",
    "\n",
    "# check for entailment (add negation of the to be entailed formula)\n",
    "kb.add_clause(~PJ1)\n",
    "# print all models of the knowledge base\n",
    "for model in kb.models():\n",
    "    print(model)\n",
    "\n",
    "# print out whether the KB is satisfiable (if there are no models, it is not satisfiable)\n",
    "print(kb.satisfiable())\n"
   ]
  },
  {
   "cell_type": "raw",
   "metadata": {},
   "source": [
    "PJ0:\n",
    "False\n",
    "\n",
    "Entailed, thus proves its an Ace.\n",
    "\n",
    "PJ1:\n",
    "{j0: True, pj0: True, j5: True, pj5: True, j10: True, pj10: True, j15: True, pj15: True, pj1: False}\n",
    "True\n",
    "\n",
    "Not entailed, thus proves its not an Ace and a Ten instead."
   ]
  },
  {
   "cell_type": "markdown",
   "metadata": {},
   "source": [
    "## Task 8\n",
    "\n",
    "Build a more complex logical strategies. For example, you can define the notion of a cheap card, as being either a jack, king or queen, and devise a strategy that plays cheap card first. Test whether you can use logical reasoning to check whether the correctness of a move w.r.t. this strategy is entailed by your knowledge base. Again, provide your script, and print the result.\n"
   ]
  },
  {
   "cell_type": "code",
   "execution_count": 8,
   "metadata": {},
   "outputs": [
    {
     "name": "stdout",
     "output_type": "stream",
     "text": [
      "False\n"
     ]
    }
   ],
   "source": [
    "import sys\n",
    "from bots.kbbot.kb import KB, Boolean, Integer, Constant\n",
    "\n",
    "# Define our propositional symbols\n",
    "# J1 is true if the card with index 1 is a jack, etc\n",
    "# You need to initialise all variables that you need for you strategies and game knowledge.\n",
    "# Add those variables here.. The following list is complete for the Play Jack strategy.\n",
    "J0 = Boolean('j0')\n",
    "J1 = Boolean('j1')\n",
    "J2 = Boolean('j2')\n",
    "J3 = Boolean('j3')\n",
    "J4 = Boolean('j4')\n",
    "J5 = Boolean('j5')\n",
    "J6 = Boolean('j6')\n",
    "J7 = Boolean('j7')\n",
    "J8 = Boolean('j8')\n",
    "J9 = Boolean('j9')\n",
    "J10 = Boolean('j10')\n",
    "J11 = Boolean('j11')\n",
    "J12 = Boolean('j12')\n",
    "J13 = Boolean('j13')\n",
    "J14 = Boolean('j14')\n",
    "J15 = Boolean('j15')\n",
    "J16 = Boolean('j16')\n",
    "J17 = Boolean('j17')\n",
    "J18 = Boolean('j18')\n",
    "J19 = Boolean('j19')\n",
    "PJ0 = Boolean('pj0')\n",
    "PJ1 = Boolean('pj1')\n",
    "PJ2 = Boolean('pj2')\n",
    "PJ3 = Boolean('pj3')\n",
    "PJ4 = Boolean('pj4')\n",
    "PJ5 = Boolean('pj5')\n",
    "PJ6 = Boolean('pj6')\n",
    "PJ7 = Boolean('pj7')\n",
    "PJ8 = Boolean('pj8')\n",
    "PJ9 = Boolean('pj9')\n",
    "PJ10 = Boolean('pj10')\n",
    "PJ11 = Boolean('pj11')\n",
    "PJ12 = Boolean('pj12')\n",
    "PJ13 = Boolean('pj13')\n",
    "PJ14 = Boolean('pj14')\n",
    "PJ15 = Boolean('pj15')\n",
    "PJ16 = Boolean('pj16')\n",
    "PJ17 = Boolean('pj17')\n",
    "PJ18 = Boolean('pj18')\n",
    "PJ19 = Boolean('pj19')\n",
    "\n",
    "# Create a new knowledge base\n",
    "kb = KB()\n",
    "\n",
    "# GENERAL INFORMATION ABOUT THE CARDS\n",
    "# This adds information which cards are Jacks\n",
    "kb.add_clause(J4)\n",
    "kb.add_clause(J9)\n",
    "kb.add_clause(J14)\n",
    "kb.add_clause(J19)\n",
    "# Add here whatever is needed for your strategy.\n",
    "kb.add_clause(J3)\n",
    "kb.add_clause(J7)\n",
    "kb.add_clause(J13)\n",
    "kb.add_clause(J17)\n",
    "\n",
    "kb.add_clause(J2)\n",
    "kb.add_clause(J8)\n",
    "kb.add_clause(J12)\n",
    "kb.add_clause(J18)\n",
    "\n",
    "# DEFINITION OF THE STRATEGY\n",
    "# Add clauses (This list is sufficient for this strategy)\n",
    "# PJ is the strategy to play jacks first, so all we need to model is all x PJ(x) <-> J(x),\n",
    "# In other words that the PJ strategy should play a card when it is a jack\n",
    "kb.add_clause(~J4, PJ4)\n",
    "kb.add_clause(~J9, PJ9)\n",
    "kb.add_clause(~J14, PJ14)\n",
    "kb.add_clause(~J19, PJ19)\n",
    "kb.add_clause(~PJ4, J4)\n",
    "kb.add_clause(~PJ9, J9)\n",
    "kb.add_clause(~PJ14, J14)\n",
    "kb.add_clause(~PJ19, J19)\n",
    "# Add here other strategies\n",
    "kb.add_clause(~J2, PJ2)\n",
    "kb.add_clause(~J7, PJ7)\n",
    "kb.add_clause(~J12, PJ12)\n",
    "kb.add_clause(~J17, PJ17)\n",
    "kb.add_clause(~PJ2, J4)\n",
    "kb.add_clause(~PJ7, J7)\n",
    "kb.add_clause(~PJ12, J12)\n",
    "kb.add_clause(~PJ19, J19)\n",
    "\n",
    "kb.add_clause(~J3, PJ3)\n",
    "kb.add_clause(~J8, PJ8)\n",
    "kb.add_clause(~J13, PJ13)\n",
    "kb.add_clause(~J18, PJ18)\n",
    "kb.add_clause(~PJ3, J3)\n",
    "kb.add_clause(~PJ8, J8)\n",
    "kb.add_clause(~PJ13, J13)\n",
    "kb.add_clause(~PJ18, J18)\n",
    "\n",
    "# check for entailment (add negation of the to be entailed formula)\n",
    "kb.add_clause(~PJ3)\n",
    "# print all models of the knowledge base\n",
    "for model in kb.models():\n",
    "    print(model)\n",
    "\n",
    "# print out whether the KB is satisfiable (if there are no models, it is not satisfiable)\n",
    "print(kb.satisfiable())\n"
   ]
  },
  {
   "cell_type": "markdown",
   "metadata": {},
   "source": [
    "PJ1:\n",
    "{j4: True, pj4: True, j9: True, pj9: True, j14: True, pj14: True, j19: True, pj19: True, j3: True, pj3: True, j7: True, pj7: True, j13: True, pj13: True, j17: True, pj17: True, j2: True, pj2: True, j8: True, pj8: True, j12: True, pj12: True, j18: True, pj18: True, pj1: False}\n",
    "True\n",
    "Not entailed, proving that it is not one of the cheapest and is true since PJ1 is a Ten.\n",
    "\n",
    "PJ3:\n",
    "False\n",
    "Entailed, proving that it is one of the cheapest and is true since PJ3 is a Queen."
   ]
  },
  {
   "cell_type": "markdown",
   "metadata": {},
   "source": [
    "## Implementing a Logic-based Agent *kbbot.py*\n",
    "\n",
    "The final task is to implement and run a rational game agent using the logic-based approach introduced in the previous section of this assignment.\n",
    "\n",
    "Look at the code implemented in the knowledge based bot (kbbot.py) in the codebase and try to understand the code. All it does is to go through the 5 possible moves and to call a method kb_consistent with arguments state and move. \n",
    "\n",
    "This method initialises a knowledge base and loads the needed game information from a file load.py. This is where the knowledge is represented about the game and the strategy. If you play the bot kbbot, it will play according to the PlayJack strategy, as this is what is represented in load.py.\n",
    "\n",
    "Run a tournament between rand, kbbot and rdeep, and report on how this naive knowledge-based bot performs: "
   ]
  },
  {
   "cell_type": "raw",
   "metadata": {},
   "source": [
    "kbbot wins against rand and loses against rdeep the majority of the time."
   ]
  },
  {
   "cell_type": "markdown",
   "metadata": {},
   "source": [
    "Interpret the results in your own words: "
   ]
  },
  {
   "cell_type": "raw",
   "metadata": {},
   "source": [
    "Results:\n",
    "    bot <bots.rdeep.rdeep.Bot object at 0x00000199D31EB130>: 34 points\n",
    "    bot <bots.kbbot.kbbot.Bot object at 0x00000199D31EBAF0>: 16 points\n",
    "    bot <bots.rand.rand.Bot object at 0x00000199D31EB550>: 15 points\n",
    "The strategy to play Jacks first is more efficient in scoring in comparison to rand because it minimizes the possibility to win a trick by using a high score card by playing the Jack instead."
   ]
  },
  {
   "cell_type": "markdown",
   "metadata": {},
   "source": [
    "### Task 9 \n",
    "\n",
    "Replace the knowledge and strategy you modelled in one of the previous questions into a new file load2.py. You might want to create a new kbbot2, which loads your alternative strategy load2, so that you can play kbbot against kbbot2. \n",
    "\n",
    "Task 9a) Run some games between one of the other bots until you find an example that your strategy works (e.g. that the bot indeed plays always a Jack first if you play the JackFirst strategy. "
   ]
  },
  {
   "cell_type": "markdown",
   "metadata": {},
   "source": [
    "Due to error I was unable to run the game. However, I have tried to create a strategy where I play either the Jack, Queen or Kings first since they are one of the cheapest options, in comparison to the Ten and Ace. "
   ]
  },
  {
   "cell_type": "markdown",
   "metadata": {},
   "source": [
    "Please copy-paste below parts of an example printout where your strategy works: "
   ]
  },
  {
   "cell_type": "raw",
   "metadata": {},
   "source": [
    "Playing 30 games:\n",
    "Played 1 out of 30 games (3%): [2, 0, 0] \n",
    "Played 2 out of 30 games (7%): [4, 0, 0] \n",
    "Played 3 out of 30 games (10%): [5, 0, 0] \n",
    "Played 4 out of 30 games (13%): [5, 1, 0] \n",
    "Played 5 out of 30 games (17%): [7, 1, 0] \n",
    "Played 6 out of 30 games (20%): [10, 1, 0] \n",
    "Played 7 out of 30 games (23%): [12, 1, 0] \n",
    "Played 8 out of 30 games (27%): [12, 2, 0] \n",
    "Played 9 out of 30 games (30%): [12, 3, 0] \n",
    "Played 10 out of 30 games (33%): [15, 3, 0] \n",
    "Played 11 out of 30 games (37%): [17, 3, 0] \n",
    "Played 12 out of 30 games (40%): [19, 3, 0] \n",
    "Played 13 out of 30 games (43%): [22, 3, 0] \n",
    "Played 14 out of 30 games (47%): [23, 3, 0] \n",
    "Played 15 out of 30 games (50%): [26, 3, 0] \n",
    "Played 16 out of 30 games (53%): [28, 3, 0] \n",
    "Played 17 out of 30 games (57%): [30, 3, 0] \n",
    "Played 18 out of 30 games (60%): [31, 3, 0] \n",
    "Played 19 out of 30 games (63%): [33, 3, 0] \n",
    "Played 20 out of 30 games (67%): [36, 3, 0] \n",
    "Played 21 out of 30 games (70%): [36, 3, 1] \n",
    "Played 22 out of 30 games (73%): [36, 5, 1] \n",
    "Played 23 out of 30 games (77%): [36, 5, 2] \n",
    "Played 24 out of 30 games (80%): [36, 6, 2] \n",
    "Played 25 out of 30 games (83%): [36, 6, 4] \n",
    "Played 26 out of 30 games (87%): [36, 7, 4] \n",
    "Played 27 out of 30 games (90%): [36, 7, 6] \n",
    "Played 28 out of 30 games (93%): [36, 7, 8] \n",
    "Played 29 out of 30 games (97%): [36, 8, 8] \n",
    "Played 30 out of 30 games (100%): [36, 8, 11] \n",
    "Results:\n",
    "    bot <bots.rdeep.rdeep.Bot object at 0x00000199D31CE9D0>: 36 points\n",
    "    bot <bots.kbbot2.kbbot2.Bot object at 0x00000199D31CEB80>: 8 points\n",
    "    bot <bots.rand.rand.Bot object at 0x00000199D31CEA00>: 11 points"
   ]
  },
  {
   "cell_type": "markdown",
   "metadata": {},
   "source": [
    "Task 9b) Finally, run the tournament again (copy the tournament code in the cell below): \n"
   ]
  },
  {
   "cell_type": "code",
   "execution_count": 15,
   "metadata": {},
   "outputs": [
    {
     "name": "stdout",
     "output_type": "stream",
     "text": [
      "Playing 60 games:\n",
      "Played 1 out of 60 games (2%): [1, 0, 0, 0] \n",
      "Played 2 out of 60 games (3%): [3, 0, 0, 0] \n",
      "Played 3 out of 60 games (5%): [6, 0, 0, 0] \n",
      "Played 4 out of 60 games (7%): [6, 1, 0, 0] \n",
      "Played 5 out of 60 games (8%): [6, 3, 0, 0] \n",
      "Played 6 out of 60 games (10%): [6, 4, 0, 0] \n",
      "Played 7 out of 60 games (12%): [8, 4, 0, 0] \n",
      "Played 8 out of 60 games (13%): [10, 4, 0, 0] \n",
      "Played 9 out of 60 games (15%): [11, 4, 0, 0] \n",
      "Played 10 out of 60 games (17%): [14, 4, 0, 0] \n",
      "Played 11 out of 60 games (18%): [14, 4, 1, 0] \n",
      "Played 12 out of 60 games (20%): [16, 4, 1, 0] \n",
      "Played 13 out of 60 games (22%): [19, 4, 1, 0] \n",
      "Played 14 out of 60 games (23%): [20, 4, 1, 0] \n",
      "Played 15 out of 60 games (25%): [20, 4, 2, 0] \n",
      "Played 16 out of 60 games (27%): [23, 4, 2, 0] \n",
      "Played 17 out of 60 games (28%): [25, 4, 2, 0] \n",
      "Played 18 out of 60 games (30%): [27, 4, 2, 0] \n",
      "Played 19 out of 60 games (32%): [30, 4, 2, 0] \n",
      "Played 20 out of 60 games (33%): [32, 4, 2, 0] \n",
      "Played 21 out of 60 games (35%): [34, 4, 2, 0] \n",
      "Played 22 out of 60 games (37%): [36, 4, 2, 0] \n",
      "Played 23 out of 60 games (38%): [37, 4, 2, 0] \n",
      "Played 24 out of 60 games (40%): [39, 4, 2, 0] \n",
      "Played 25 out of 60 games (42%): [42, 4, 2, 0] \n",
      "Played 26 out of 60 games (43%): [42, 4, 2, 1] \n",
      "Played 27 out of 60 games (45%): [44, 4, 2, 1] \n",
      "Played 28 out of 60 games (47%): [47, 4, 2, 1] \n",
      "Played 29 out of 60 games (48%): [49, 4, 2, 1] \n",
      "Played 30 out of 60 games (50%): [51, 4, 2, 1] \n",
      "Played 31 out of 60 games (52%): [51, 4, 4, 1] \n",
      "Played 32 out of 60 games (53%): [51, 4, 5, 1] \n",
      "Played 33 out of 60 games (55%): [51, 5, 5, 1] \n",
      "Played 34 out of 60 games (57%): [51, 5, 7, 1] \n",
      "Played 35 out of 60 games (58%): [51, 5, 10, 1] \n",
      "Played 36 out of 60 games (60%): [51, 7, 10, 1] \n",
      "Played 37 out of 60 games (62%): [51, 7, 12, 1] \n",
      "Played 38 out of 60 games (63%): [51, 7, 13, 1] \n",
      "Played 39 out of 60 games (65%): [51, 7, 14, 1] \n",
      "Played 40 out of 60 games (67%): [51, 8, 14, 1] \n",
      "Played 41 out of 60 games (68%): [51, 9, 14, 1] \n",
      "Played 42 out of 60 games (70%): [51, 9, 14, 2] \n",
      "Played 43 out of 60 games (72%): [51, 9, 14, 3] \n",
      "Played 44 out of 60 games (73%): [51, 9, 14, 4] \n",
      "Played 45 out of 60 games (75%): [51, 10, 14, 4] \n",
      "Played 46 out of 60 games (77%): [51, 13, 14, 4] \n",
      "Played 47 out of 60 games (78%): [51, 14, 14, 4] \n",
      "Played 48 out of 60 games (80%): [51, 16, 14, 4] \n",
      "Played 49 out of 60 games (82%): [51, 16, 14, 6] \n",
      "Played 50 out of 60 games (83%): [51, 16, 14, 8] \n",
      "Played 51 out of 60 games (85%): [51, 16, 15, 8] \n",
      "Played 52 out of 60 games (87%): [51, 16, 15, 10] \n",
      "Played 53 out of 60 games (88%): [51, 16, 15, 12] \n",
      "Played 54 out of 60 games (90%): [51, 16, 15, 13] \n",
      "Played 55 out of 60 games (92%): [51, 16, 15, 15] \n",
      "Played 56 out of 60 games (93%): [51, 16, 17, 15] \n",
      "Played 57 out of 60 games (95%): [51, 16, 18, 15] \n",
      "Played 58 out of 60 games (97%): [51, 16, 18, 16] \n",
      "Played 59 out of 60 games (98%): [51, 16, 18, 17] \n",
      "Played 60 out of 60 games (100%): [51, 16, 19, 17] \n",
      "Results:\n",
      "    bot <bots.rdeep.rdeep.Bot object at 0x00000199D31EB9D0>: 51 points\n",
      "    bot <bots.kbbot2.kbbot2.Bot object at 0x00000199D31EB4C0>: 16 points\n",
      "    bot <bots.rand.rand.Bot object at 0x00000199D31EB550>: 19 points\n",
      "    bot <bots.kbbot.kbbot.Bot object at 0x00000199D31EB970>: 17 points\n"
     ]
    }
   ],
   "source": [
    "botnames = []\n",
    "verbose = False \n",
    "myphase = 1\n",
    "myrepeats = 10\n",
    "\n",
    "# Create player 1\n",
    "player1 = util.load_player(\"rdeep\") \n",
    "player2 = util.load_player(\"kbbot2\")\n",
    "player3 = util.load_player(\"rand\")\n",
    "player4 = util.load_player(\"kbbot\")\n",
    "\n",
    "bots = [player1,player2,player3,player4]\n",
    "\n",
    "n = len(bots)\n",
    "wins = [0] * len(bots)\n",
    "matches = [(p1, p2) for p1 in range(n) for p2 in range(n) if p1 < p2]\n",
    "\n",
    "totalgames = (n*n - n)/2 * myrepeats\n",
    "playedgames = 0\n",
    "\n",
    "print('Playing {} games:'.format(int(totalgames)))\n",
    "for a, b in matches:\n",
    "    for r in range(myrepeats):\n",
    "\n",
    "        if random.choice([True, False]):\n",
    "            p = [a, b]\n",
    "        else:\n",
    "            p = [b, a]\n",
    "\n",
    "        # Generate a state with a random seed\n",
    "        state = State.generate(phase=myphase)\n",
    "\n",
    "        winner, score = engine.play(bots[p[0]], bots[p[1]], state, 1000, verbose, True)\n",
    "\n",
    "        if winner is not None:\n",
    "            winner = p[winner - 1]\n",
    "            wins[winner] += score\n",
    "\n",
    "        playedgames += 1\n",
    "        print('Played {} out of {:.0f} games ({:.0f}%): {} \\r'.format(playedgames, totalgames, playedgames/float(totalgames) * 100, wins))\n",
    "\n",
    "print('Results:')\n",
    "for i in range(len(bots)):\n",
    "    print('    bot {}: {} points'.format(bots[i], wins[i]))\n"
   ]
  },
  {
   "cell_type": "markdown",
   "metadata": {},
   "source": [
    "Report on how your new strategy performs with respect to the other bots, including the kbbot with the PlayJack strategy.  "
   ]
  },
  {
   "cell_type": "raw",
   "metadata": {},
   "source": [
    "Winning order: rdeep > rand > kbbot > kbbot2\n",
    "The strategy was shown to perform, however in terms of gaining points kbbot and kbbot2 were not efficient in comparison to rand and rdeep. Proving that the strategy to play Jacks first or Jacks, Queens and Kings will not earn many points than randomly playing the cards. Therefore, these two strategies are inefficient."
   ]
  }
 ],
 "metadata": {
  "kernelspec": {
   "display_name": "Python 3",
   "language": "python",
   "name": "python3"
  },
  "language_info": {
   "codemirror_mode": {
    "name": "ipython",
    "version": 3
   },
   "file_extension": ".py",
   "mimetype": "text/x-python",
   "name": "python",
   "nbconvert_exporter": "python",
   "pygments_lexer": "ipython3",
   "version": "3.9.0"
  }
 },
 "nbformat": 4,
 "nbformat_minor": 4
}
