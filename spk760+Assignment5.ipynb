{
 "cells": [
  {
   "cell_type": "markdown",
   "metadata": {},
   "source": [
    "# Intelligent Systems 2020: 5th  practical assignment \n",
    "## Logical Agents\n",
    "\n",
    "Your name: Seeun Park\n",
    "\n",
    "Your VUnetID: spk760\n",
    "\n",
    "If you do not provide your name and VUnetID we will not accept your submission. \n",
    "\n",
    "### Learning objectives\n",
    "At the end of this exercise you should be able to work with some basic fuzzy concepts, and implement and evaluate a simple probabilistic approach to playing Schnapsen. \n",
    "\n",
    "### Preliminaries\n",
    "\n",
    "In this worksheet we will build a Fuzzy Logic knowledge-base and implement a simple probabilistic strategy for an agent to play Schnapsen. \n",
    "\n",
    "\n",
    "### Practicalities\n",
    "\n",
    "Follow this Notebook step-by-step. \n",
    "\n",
    "Of course, you can do the exercises in any Programming Editor of your liking. But you do not have to. Feel free to simply write code in the Notebook. Please use your studentID+Assignment5.ipynb as the name of the Notebook.  \n",
    "\n",
    "Note: unlike the courses dedicated to programming we will not evaluate the style of the programs. But we will, however, test your programs on other data that we provide, and your program should give the correct output to the test-data as well.\n",
    "\n",
    "As was mentioned, the assignment is graded as pass/fail. To pass you need to have either a full working code or an explanation of what you tried and what didn't work for the tasks that you were unable to complete (you can use multi-line comments or a text cell).\n"
   ]
  },
  {
   "cell_type": "markdown",
   "metadata": {},
   "source": [
    "## Calculating Fuzzyvalues for a Formula (KnowledgeBase)\n",
    "\n",
    "The first task is to implement part of the algorithm to calculate a fuzzy value for a complex formula:  \n",
    "\n",
    "> f(¬A) = 1 - f(A) <br>\n",
    "> f(A v B) = max(f(A);f(B)) <br>\n",
    "> f(A & B) = min(f(A);f(B)) <br>\n",
    "> f(A -> B) = min(1;1 – f(A) + f(B)) <br>\n",
    "\n",
    "We will do this in a very simplistic way, which should still give you an additional idea on how this can be done. The main restriction is that we will only calculate the value of formulas in Clause Normal Form. This means we do not have to implement the rule for implication, and we do have a very simple structure of formulas: \n",
    "\n",
    "> (L11 v L12 v L13 v .... v L1n) <br>\n",
    "> & (L21 v L22 v L23 v .... v L2n) <br>\n",
    "> & ... \n",
    "\n",
    "where each of the L's is a Literal, or in other words an Atom, or a negation of an Atom. So, all that needs to be done is to be able to: <br>\n",
    "\n",
    "1) assign a fuzzy value V to an atom, or (1 - V) value in case it is a negation. <br> \n",
    "2) calculate the fuzzy value of a disjunction of values for Literals, and  <br>\n",
    "3) calculate the fuzzy value of a conjuction of values for disjuctions. <br>\n",
    "\n",
    "There are two steps that need to be taken and they will have to be done at two different places in the fuzzykb.py file. Open this file in a Python editor of your choice. First, we will have to define the value of a negated atom. \n",
    "\n",
    "#### Task 1A: Fuzzy negation\n",
    "Go to the definition of the NegFuzzySymbol class. Here in line 52, given a fuzzy value \"value\", the value of a negation has to be defined. Replace the line \"???\" with the correct code, and add the snippet to the following cell:"
   ]
  },
  {
   "cell_type": "raw",
   "metadata": {},
   "source": [
    "1 - value"
   ]
  },
  {
   "cell_type": "markdown",
   "metadata": {},
   "source": [
    "#### Task 1B: Conjunction and Disjunction \n",
    "The task is now to: \n",
    "1) define the fuzzy value of Clause based on the values of the symbols (you get those by calling symbol.value() for all symbols in a clause)<br>\n",
    "2) define the fuzzy value of the Knowlegde base (i.e. the conjunction of all the clauses) \n",
    "\n",
    "Go to the definition of the fuzzyvalue() function. Here in line 120 replace the lines \"???\" with the correct code, and add the snippet you wrote to the following cell:"
   ]
  },
  {
   "cell_type": "raw",
   "metadata": {},
   "source": [
    "        minvalue = []\n",
    "        for clause in self._clauses:\n",
    "            clausevalue = []\n",
    "            for symbol in clause:\n",
    "                clausevalue.append(symbol.value())\n",
    "            minvalue.append(max(clausevalue))\n",
    "        return min(minvalue)"
   ]
  },
  {
   "cell_type": "markdown",
   "metadata": {},
   "source": [
    "Once you have succesfully finished the implementations of these methods, you should be able to run the following code."
   ]
  },
  {
   "cell_type": "code",
   "execution_count": 1,
   "metadata": {},
   "outputs": [
    {
     "name": "stdout",
     "output_type": "stream",
     "text": [
      "f(kb): 0.6\n"
     ]
    }
   ],
   "source": [
    "import sys\n",
    "from bots.kbbot.fuzzykb import fuzzyKB, FuzzySymbol\n",
    "\n",
    "# Define our symbols\n",
    "A = FuzzySymbol('A',0.3)\n",
    "B = FuzzySymbol('B',0.8)\n",
    "C = FuzzySymbol('C',0.6)\n",
    "\n",
    "# Create a new knowledge base\n",
    "kb = fuzzyKB()\n",
    "\n",
    "# Add clauses\n",
    "kb.add_clause(A, B, C)\n",
    "kb.add_clause(~A, B)\n",
    "kb.add_clause(~B, C)\n",
    "kb.add_clause(B, ~C)\n",
    "\n",
    "# Calculate the fuzzy value of the knowledge base (the conjunction of all the clauses).\n",
    "print(\"f(kb):\", kb.fuzzyvalue())"
   ]
  },
  {
   "cell_type": "markdown",
   "metadata": {},
   "source": [
    "### Task 2\n",
    "\n",
    "The next task is to model the properties of Schnapsen cards in a simple Fuzzy Representation, with the following propositions: \n",
    "\n",
    "> HC = HighCard<br>\n",
    "> VHC = VeryHighCard<br>\n",
    "> Avg = AverageCard<br>\n",
    "> Exp = ExpensiveCard<br>\n",
    "> Chp = CheapCard \n",
    "\n",
    "Now let us build a fuzzy knowledge-base with values for a Queen (there is not one correct answer, but try to model this as close as possible to the true value and cost of a Queen in Schnapsen. \n",
    "\n",
    "a) First, let us reset the knowledge base, and define our fuzzy variables for a Queen: "
   ]
  },
  {
   "cell_type": "code",
   "execution_count": 2,
   "metadata": {},
   "outputs": [],
   "source": [
    "kb = fuzzyKB()\n",
    "# Define our symbols\n",
    "HC = FuzzySymbol('A',0.2)\n",
    "VHC = FuzzySymbol('A',0.1)\n",
    "Avg = FuzzySymbol('A',0.4)\n",
    "Low = FuzzySymbol('A',0.8)\n",
    "Chp = FuzzySymbol('A',0.4)"
   ]
  },
  {
   "cell_type": "markdown",
   "metadata": {},
   "source": [
    "b) Let us define now a set of cards, and check to what degree our queen is a member of this set. We define the set of cards as a set that are   \n",
    "> 1. are either low, high or very high<br>\n",
    "> 2. neither very high, nore average<br>\n",
    "> 3. either not low or cheap, AND  <br>\n",
    "> 4. neither cheap, nor high"
   ]
  },
  {
   "cell_type": "code",
   "execution_count": 3,
   "metadata": {},
   "outputs": [],
   "source": [
    "#Add clauses\n",
    "kb.add_clause(Low, HC, VHC)\n",
    "kb.add_clause(~VHC, ~Avg)\n",
    "kb.add_clause(~Low, Chp)\n",
    "kb.add_clause(~Chp, ~HC)"
   ]
  },
  {
   "cell_type": "markdown",
   "metadata": {},
   "source": [
    "Now run the script and report the output in the cell after the code."
   ]
  },
  {
   "cell_type": "code",
   "execution_count": 4,
   "metadata": {},
   "outputs": [
    {
     "name": "stdout",
     "output_type": "stream",
     "text": [
      "f(kb): 0.4\n"
     ]
    }
   ],
   "source": [
    "# Calculate the fuzzy value of the knowledge base (the conjunction of all the clauses).\n",
    "print(\"f(kb):\", kb.fuzzyvalue())"
   ]
  },
  {
   "cell_type": "markdown",
   "metadata": {},
   "source": [
    "Explain in your own words what does this output mean:"
   ]
  },
  {
   "cell_type": "markdown",
   "metadata": {},
   "source": [
    "The value 0.4 shows how the card will respond to the queen."
   ]
  },
  {
   "cell_type": "markdown",
   "metadata": {},
   "source": [
    "## A Probability-based Bot. \n",
    "\n",
    "Now it is time to move to a real rational agent that plays Schnapsen, and to implement a probabilistic bot. The idea of this bot is described on the Canvas page for this assignment and in the probability.py file. \n",
    "\n",
    "### Tasks 3:\n",
    "You will have to finish the implementation of a bot that uses probabilistic reasoning to determine its next move. All you have to do is fill in the missing code at the lines marked with \"???\". At these spots, we explain what you will have to do, but we strongly recommend that you also have a careful look at the entire bot, and the documentation of the code to get the overall idea.  \n",
    "\n",
    "But first, let us not forget to initialise it:"
   ]
  },
  {
   "cell_type": "code",
   "execution_count": 5,
   "metadata": {},
   "outputs": [],
   "source": [
    "import sys, random\n",
    "\n",
    "from api import State, engine, util"
   ]
  },
  {
   "cell_type": "markdown",
   "metadata": {},
   "source": [
    "Now you need to start coding. In the directory /bots, you will have to make a subdirectory called probability, and copy the provided file probability.py into this new directory. \n",
    "\n",
    "The next step is to finish the implemenation of this file. Open it in your favourite Python Editor and fill in the gaps. \n",
    "\n",
    "First, in line 101, you will need to implement the probability that the opponent has a problemCard. \n",
    "\n",
    "In line 107, you will have to update the maximal probability value and the chosen move accordingly. \n",
    "\n",
    "Now we can run a game between rand and your new bot, to check whether everything works fine. "
   ]
  },
  {
   "cell_type": "code",
   "execution_count": 12,
   "metadata": {},
   "outputs": [
    {
     "name": "stdout",
     "output_type": "stream",
     "text": [
      "player1: <bots.rand.rand.Bot object at 0x00000163F6B842B0>\n",
      "player2: <bots.probabilitybully.probabilitybully.Bot object at 0x00000163F6B84040>\n",
      "*   Player 2 plays: AH\n",
      "The game is in phase: 1\n",
      "Player 1's points: 0, pending: 0\n",
      "Player 2's points: 0, pending: 0\n",
      "The trump suit is: H\n",
      "Player 1's hand: KD JD KH AS 10S\n",
      "Player 2's hand: 10C KC AH JH QS\n",
      "There are 10 cards in the stock\n",
      "Player 2 has played card: A of H\n",
      "\n",
      "*   Player 1 plays: 10S\n",
      "The game is in phase: 1\n",
      "Player 1's points: 0, pending: 0\n",
      "Player 2's points: 21, pending: 0\n",
      "The trump suit is: H\n",
      "Player 1's hand: JC KD JD KH AS\n",
      "Player 2's hand: 10C KC JH KS QS\n",
      "There are 8 cards in the stock\n",
      "\n",
      "*   Player 2 plays: 10C\n",
      "The game is in phase: 1\n",
      "Player 1's points: 0, pending: 0\n",
      "Player 2's points: 21, pending: 0\n",
      "The trump suit is: H\n",
      "Player 1's hand: JC KD JD KH AS\n",
      "Player 2's hand: 10C KC JH KS QS\n",
      "There are 8 cards in the stock\n",
      "Player 2 has played card: 10 of C\n",
      "\n",
      "*   Player 1 plays: JD\n",
      "The game is in phase: 1\n",
      "Player 1's points: 0, pending: 0\n",
      "Player 2's points: 33, pending: 0\n",
      "The trump suit is: H\n",
      "Player 1's hand: AC JC KD KH AS\n",
      "Player 2's hand: KC QC JH KS QS\n",
      "There are 6 cards in the stock\n",
      "\n",
      "*   Player 2 plays: KS\n",
      "*   Player 2 melds a marriage between KS and QS\n",
      "The game is in phase: 1\n",
      "Player 1's points: 0, pending: 0\n",
      "Player 2's points: 33, pending: 20\n",
      "The trump suit is: H\n",
      "Player 1's hand: AC JC KD KH AS\n",
      "Player 2's hand: KC QC JH KS QS\n",
      "There are 6 cards in the stock\n",
      "Player 2 has played card: K of S\n",
      "\n",
      "*   Player 1 plays: AS\n",
      "The game is in phase: 1\n",
      "Player 1's points: 15, pending: 0\n",
      "Player 2's points: 33, pending: 20\n",
      "The trump suit is: H\n",
      "Player 1's hand: AC JC KD QD KH\n",
      "Player 2's hand: KC QC 10H JH QS\n",
      "There are 4 cards in the stock\n",
      "\n",
      "*   Player 1 plays: QD\n",
      "The game is in phase: 1\n",
      "Player 1's points: 15, pending: 0\n",
      "Player 2's points: 33, pending: 20\n",
      "The trump suit is: H\n",
      "Player 1's hand: AC JC KD QD KH\n",
      "Player 2's hand: KC QC 10H JH QS\n",
      "There are 4 cards in the stock\n",
      "Player 1 has played card: Q of D\n",
      "\n",
      "*   Player 2 plays: 10H\n",
      "The game is in phase: 1\n",
      "Player 1's points: 15, pending: 0\n",
      "Player 2's points: 66, pending: 0\n",
      "The trump suit is: H\n",
      "Player 1's hand: AC JC KD KH JS\n",
      "Player 2's hand: KC QC 10D JH QS\n",
      "There are 2 cards in the stock\n",
      "\n",
      "Game finished. Player 2 has won, receiving 2 points.\n"
     ]
    },
    {
     "data": {
      "text/plain": [
       "(2, 2)"
      ]
     },
     "execution_count": 12,
     "metadata": {},
     "output_type": "execute_result"
    }
   ],
   "source": [
    "# Choose your first player\n",
    "player1 = \"rand\"\n",
    "player2 = \"probabilitybully\"\n",
    "# Decide in which phase you want to start the game. \n",
    "startphase = 1\n",
    "# Decide whether you want verbose output or not \n",
    "verbose=True \n",
    "\n",
    "#And here you run a game on the engine. \n",
    "engine.play(util.load_player(player1),util.load_player(player2), state=State.generate(phase=startphase), max_time=10000, verbose=verbose)"
   ]
  },
  {
   "cell_type": "markdown",
   "metadata": {},
   "source": [
    "Provide in the following cell the code that you have written to make the probabilistic bot work:"
   ]
  },
  {
   "cell_type": "raw",
   "metadata": {},
   "source": [
    "\t\t\t\tprobability = 1 - ((u-pc)/u) * (((u-1) - pc)/u-1) * (((u-2) - pc)/u-2) * (((u-3) - pc)/u-3) * (((u-4) - pc)/u-4)\n",
    "\n",
    "\t\t\t\t# All that is left to do is to check whether the new probability is higher than the earlier value\n",
    "\t\t\t\t# (to calculate the maximum). If it is, we set probability to be the new maximal probability, and the\n",
    "\t\t\t\t# current move our new chosen move.\n",
    "\t\t\t\tif (move[0] is not None and probability > maxProbability):\n",
    "\t\t\t\t\tmaxProbability = probability\n",
    "\t\t\t\t\tchosen_move = move\n",
    "\t\t\t#print(\"Played MaxProbability Card \", maxProbability, \"played\", chosen_move)\n",
    "\t\t\treturn chosen_move"
   ]
  },
  {
   "cell_type": "markdown",
   "metadata": {},
   "source": [
    "An alternative might be to run games from the command-line in your terminal. To run a game between rand and probability just run: \n",
    "\n",
    "> python play.py -1 rand -2 probability \n",
    "\n",
    "or check out line python play.py -h for more details. Alternatively you can run a tournament with \n",
    " \n",
    "> python tournament.py -p rand,probability <br>\n",
    "(and again check for help with: python tournament.py -h). \n",
    "\n",
    "Of course, you can also run the tournament in this notebook with the code that we provided in the last assignment if you prefer it that way. \n",
    "\n",
    "### Task 4\n",
    "\n",
    "Run a tournament against some of the other bots, e.g. rand, kbbot or rdeep. Describe your findings in the next cell. "
   ]
  },
  {
   "cell_type": "raw",
   "metadata": {},
   "source": [
    "Playing 10 games:\n",
    "Played 1 out of 10 games (10%): [1, 0]\n",
    "Played 2 out of 10 games (20%): [2, 0]\n",
    "Played 3 out of 10 games (30%): [3, 0]\n",
    "Played 4 out of 10 games (40%): [3, 1]\n",
    "Played 5 out of 10 games (50%): [3, 3]\n",
    "Played 6 out of 10 games (60%): [3, 6]\n",
    "Played 7 out of 10 games (70%): [3, 7]\n",
    "Played 8 out of 10 games (80%): [3, 8]\n",
    "Played 9 out of 10 games (90%): [5, 8]\n",
    "Played 10 out of 10 games (100%): [5, 9]\n",
    "Results:\n",
    "    bot <bots.rand.rand.Bot object at 0x000001A516035D30>: 5 points\n",
    "    bot <bots.probability.probability.Bot object at 0x000001A516035C10>: 9 points\n",
    "-----------------------------------------------------------------------------------------------------\n",
    "rand loses against probability\n",
    "-----------------------------------------------------------------------------------------------------\n",
    "Playing 10 games:\n",
    "Played 1 out of 10 games (10%): [2, 0]\n",
    "Played 2 out of 10 games (20%): [4, 0]\n",
    "Played 3 out of 10 games (30%): [4, 1]\n",
    "Played 4 out of 10 games (40%): [6, 1]\n",
    "Played 5 out of 10 games (50%): [8, 1]\n",
    "Played 6 out of 10 games (60%): [9, 1]\n",
    "Played 7 out of 10 games (70%): [9, 2]\n",
    "Played 8 out of 10 games (80%): [9, 3]\n",
    "Played 9 out of 10 games (90%): [11, 3]\n",
    "Played 10 out of 10 games (100%): [11, 5]\n",
    "Results:\n",
    "    bot <bots.rdeep.rdeep.Bot object at 0x0000029301185D30>: 11 points\n",
    "    bot <bots.probability.probability.Bot object at 0x0000029301185BE0>: 5 points\n",
    "-----------------------------------------------------------------------------------------------------\n",
    "rdeep won against probability\n",
    "-----------------------------------------------------------------------------------------------------\n",
    "Playing 10 games:\n",
    "Played 1 out of 10 games (10%): [3, 0]\n",
    "Played 2 out of 10 games (20%): [3, 2]\n",
    "Played 3 out of 10 games (30%): [3, 5]\n",
    "Played 4 out of 10 games (40%): [6, 5]\n",
    "Played 5 out of 10 games (50%): [6, 8]\n",
    "Played 6 out of 10 games (60%): [6, 11]\n",
    "Played 7 out of 10 games (70%): [7, 11]\n",
    "Played 8 out of 10 games (80%): [7, 14]\n",
    "Played 9 out of 10 games (90%): [7, 15]\n",
    "Played 10 out of 10 games (100%): [7, 16]\n",
    "Results:\n",
    "    bot <bots.kbbot.kbbot.Bot object at 0x0000027326795D30>: 7 points\n",
    "    bot <bots.probability.probability.Bot object at 0x0000027326795C10>: 16 points\n",
    "-----------------------------------------------------------------------------------------------------\n",
    "kbbot lost against probability 8 times. \n",
    "-----------------------------------------------------------------------------------------------------"
   ]
  },
  {
   "cell_type": "markdown",
   "metadata": {},
   "source": [
    "## Utility\n",
    "\n",
    "Unless we are very much mistaken, your new probability bot will not perform very well. One reason for this is that our probabilistic strategy has a serious flaw: the Aces and 10s have a high probability of not having a higher card of the same suit, so that our strategy will pick valuable cards in phase 1. This is a high-gain, but also a high-risk strategy, as a reasonably good opponent would trump those cards and win valuable points. \n",
    "\n",
    "One possible solution is to combine the probability of a card being easily beaten with the costs it takes to loose such a card. We do this by introducing a notion of utily, which simply devides the probability of being good by the costs of a potential loss of the played card. \n",
    "\n",
    "### Task 5 \n",
    "\n",
    "Now you need to do a bit of coding again. In the directory /bots, you will have to make a subdirectory called utility, and copy the provided utility.py file into this new directory.\n",
    "\n",
    "The next step is to finish the implemenation of this file. Open it in your favourite Python Editor and fill in the gaps. \n",
    "\n",
    "First, you will need to copy the solutions from probability.py to utility.py in lines 97 and 115, but now also a single line in 108. \n",
    "\n",
    "Provide the written lines of code in the following cell. "
   ]
  },
  {
   "cell_type": "raw",
   "metadata": {},
   "source": [
    "\t\t\t\tprobability = 1 - ((u-pc)/u) * (((u-1) - pc)/u-1) * (((u-2) - pc)/u-2) * (((u-3) - pc)/u-3) * (((u-4) - pc)/u-4)\n",
    "\n",
    "\t\t\t\t# Now we have the probability, but still want to normalise it with the costs of losing the card.\n",
    "\t\t\t\t# E.g. playing a 10 is a higher risk of loosing points as compared with playing a Jack.\n",
    "\n",
    "\t\t\t\t# Let score be an array with values for the various cards. The modulo method will assign a rank to each\n",
    "\t\t\t\t# card, and each of these ranks is given a value from the score array.\n",
    "\t\t\t\tscore = [11, 10, 4, 3, 2]\n",
    "\t\t\t\tif (move[0] is not None):\n",
    "\t\t\t\t\trank = move[0] % 5\n",
    "\t\t\t\t\tpoints = score[rank]\n",
    "\t\t\t\t\tutility = probability / points\n",
    "\t\t\t\telse:\n",
    "\t\t\t\t\tutility = 0.0\n",
    "\n",
    "\t\t\t\t# Now we check if the utility of the current option (move) is higher than the highest of the previous\n",
    "\t\t\t\t# options. If so, we choose this as our new maximal utility, and this move the chosen move.\n",
    "\t\t\t\tif (move[0] is not None and utility > maxUtility):\n",
    "\t\t\t\t\tmaxUtility = utility\n",
    "\t\t\t\t\tchosen_move = move\n",
    "\t\t\t# print(\"Played MaxUtility Move: \", maxUtility, \"played\", chosen_move)\n",
    "\t\t\treturn chosen_move"
   ]
  },
  {
   "cell_type": "markdown",
   "metadata": {},
   "source": [
    "### Task 6\n",
    "\n",
    "Now it is time to evaluate your two new bots: utility and probability. Run a number of tournaments in the next cell. \n",
    "Summarise what you did, and what the results were. "
   ]
  },
  {
   "cell_type": "raw",
   "metadata": {},
   "source": [
    "Playing 10 games:\n",
    "Played 1 out of 10 games (10%): [1, 0]\n",
    "Played 2 out of 10 games (20%): [1, 1]\n",
    "Played 3 out of 10 games (30%): [1, 2]\n",
    "Played 4 out of 10 games (40%): [1, 4]\n",
    "Played 5 out of 10 games (50%): [2, 4]\n",
    "Played 6 out of 10 games (60%): [5, 4]\n",
    "Played 7 out of 10 games (70%): [5, 6]\n",
    "Played 8 out of 10 games (80%): [5, 7]\n",
    "Played 9 out of 10 games (90%): [7, 7]\n",
    "Played 10 out of 10 games (100%): [7, 10]\n",
    "Results:\n",
    "    bot <bots.utility.utility.Bot object at 0x000001A5A4D05D30>: 7 points\n",
    "    bot <bots.probability.probability.Bot object at 0x000001A5A4D05BE0>: 10 points\n",
    "----------------------------------------------------------------------------------------\n",
    "I ran 10 games for probability against utility. Probability seems to have the winning hand, since two of the games tied and two games were lost against utility. \n",
    "----------------------------------------------------------------------------------------\n",
    "Playing 10 games:\n",
    "Played 1 out of 10 games (10%): [1, 0]\n",
    "Played 2 out of 10 games (20%): [1, 1]\n",
    "Played 3 out of 10 games (30%): [3, 1]\n",
    "Played 4 out of 10 games (40%): [3, 3]\n",
    "Played 5 out of 10 games (50%): [3, 4]\n",
    "Played 6 out of 10 games (60%): [3, 5]\n",
    "Played 7 out of 10 games (70%): [4, 5]\n",
    "Played 8 out of 10 games (80%): [5, 5]\n",
    "Played 9 out of 10 games (90%): [5, 7]\n",
    "Played 10 out of 10 games (100%): [6, 7]\n",
    "Results:\n",
    "    bot <bots.rand.rand.Bot object at 0x0000015E5D5D5D30>: 6 points\n",
    "    bot <bots.utility.utility.Bot object at 0x0000015E5D5D5C10>: 7 points\n",
    "----------------------------------------------------------------------------------------\n",
    "Utility won 5 times and tied with rand 2 times, thus lost to rand by 3 times. Through this we can hypothesize that bully will be able to win utility or tie with utility because bully has a better strategy than rand.\n",
    "----------------------------------------------------------------------------------------\n",
    "Playing 10 games:\n",
    "Played 1 out of 10 games (10%): [2, 0]\n",
    "Played 2 out of 10 games (20%): [5, 0]\n",
    "Played 3 out of 10 games (30%): [5, 1]\n",
    "Played 4 out of 10 games (40%): [5, 2]\n",
    "Played 5 out of 10 games (50%): [8, 2]\n",
    "Played 6 out of 10 games (60%): [9, 2]\n",
    "Played 7 out of 10 games (70%): [9, 5]\n",
    "Played 8 out of 10 games (80%): [11, 5]\n",
    "Played 9 out of 10 games (90%): [11, 6]\n",
    "Played 10 out of 10 games (100%): [14, 6]\n",
    "Results:\n",
    "    bot <bots.bully.bully.Bot object at 0x000001FF454E5D30>: 14 points\n",
    "    bot <bots.utility.utility.Bot object at 0x000001FF454E5C10>: 6 points\n",
    "----------------------------------------------------------------------------------------\n",
    "Bully won all 10 games against utility. Therefore, we can assume that utility has no chance against rdeep.\n",
    "----------------------------------------------------------------------------------------\n",
    "Playing 10 games:\n",
    "Played 1 out of 10 games (10%): [2, 0]\n",
    "Played 2 out of 10 games (20%): [2, 1]\n",
    "Played 3 out of 10 games (30%): [4, 1]\n",
    "Played 4 out of 10 games (40%): [7, 1]\n",
    "Played 5 out of 10 games (50%): [9, 1]\n",
    "Played 6 out of 10 games (60%): [9, 2]\n",
    "Played 7 out of 10 games (70%): [11, 2]\n",
    "Played 8 out of 10 games (80%): [14, 2]\n",
    "Played 9 out of 10 games (90%): [16, 2]\n",
    "Played 10 out of 10 games (100%): [19, 2]\n",
    "Results:\n",
    "    bot <bots.rdeep.rdeep.Bot object at 0x0000015A93E34D30>: 19 points\n",
    "    bot <bots.utility.utility.Bot object at 0x0000015A93E34BE0>: 2 points\n",
    "----------------------------------------------------------------------------------------\n",
    "As assumed from when running the games with bully against utility, the results clearly display that rdeep won\n",
    "against utility.\n",
    "----------------------------------------------------------------------------------------\n",
    "Playing 10 games:\n",
    "Played 1 out of 10 games (10%): [0, 1]\n",
    "Played 2 out of 10 games (20%): [0, 3]\n",
    "Played 3 out of 10 games (30%): [0, 6]\n",
    "Played 4 out of 10 games (40%): [0, 8]\n",
    "Played 5 out of 10 games (50%): [2, 8]\n",
    "Played 6 out of 10 games (60%): [2, 9]\n",
    "Played 7 out of 10 games (70%): [2, 11]\n",
    "Played 8 out of 10 games (80%): [5, 11]\n",
    "Played 9 out of 10 games (90%): [6, 11]\n",
    "Played 10 out of 10 games (100%): [6, 14]\n",
    "Results:\n",
    "    bot <bots.kbbot.kbbot.Bot object at 0x0000022839B25D30>: 6 points\n",
    "    bot <bots.utility.utility.Bot object at 0x0000022839B25C10>: 14 points\n",
    "----------------------------------------------------------------------------------------\n",
    "kbbot on the other hand lost against all the games to utility showing that suggests that its strategy is weaker than rand.\n",
    "----------------------------------------------------------------------------------------\n",
    "Conclusion:\n",
    "When looking at the games that were run in task 4 probability won against rand therefore, in comparison to utility utility has a weaker strategy than probability. However, probability lost against kbbot 2 times whereas utility won against kbbot for all the games. Therefore, we can see that the strategy can be stronger depending on what type of strategy the opponent uses. Despite the fact that probability wins more often against utility."
   ]
  },
  {
   "cell_type": "markdown",
   "metadata": {},
   "source": [
    "### Task 7\n",
    "\n",
    "Again, unless we are much mistaken, the results will be disappointing for both bots. The final task is to change one of the bots and try to improve it. \n",
    "In the next cell, describe what changes you attempted to make, add the code that you have changed or added, and report on the tournaments you ran (what did you do, and what were the results). \n",
    "\n",
    "Note: do not despair, this is not a simple task and chances are that you will not manage to improve performance much. But still, describe what you have tried. "
   ]
  },
  {
   "cell_type": "raw",
   "metadata": {},
   "source": [
    "Results:\n",
    "\n",
    "player1: <bots.rand.rand.Bot object at 0x00000163F6B842B0>\n",
    "player2: <bots.probabilitybully.probabilitybully.Bot object at 0x00000163F6B84040>\n",
    "*   Player 2 plays: AH\n",
    "The game is in phase: 1\n",
    "Player 1's points: 0, pending: 0\n",
    "Player 2's points: 0, pending: 0\n",
    "The trump suit is: H\n",
    "Player 1's hand: KD JD KH AS 10S\n",
    "Player 2's hand: 10C KC AH JH QS\n",
    "There are 10 cards in the stock\n",
    "Player 2 has played card: A of H\n",
    "\n",
    "*   Player 1 plays: 10S\n",
    "The game is in phase: 1\n",
    "Player 1's points: 0, pending: 0\n",
    "Player 2's points: 21, pending: 0\n",
    "The trump suit is: H\n",
    "Player 1's hand: JC KD JD KH AS\n",
    "Player 2's hand: 10C KC JH KS QS\n",
    "There are 8 cards in the stock\n",
    "\n",
    "*   Player 2 plays: 10C\n",
    "The game is in phase: 1\n",
    "Player 1's points: 0, pending: 0\n",
    "Player 2's points: 21, pending: 0\n",
    "The trump suit is: H\n",
    "Player 1's hand: JC KD JD KH AS\n",
    "Player 2's hand: 10C KC JH KS QS\n",
    "There are 8 cards in the stock\n",
    "Player 2 has played card: 10 of C\n",
    "\n",
    "*   Player 1 plays: JD\n",
    "The game is in phase: 1\n",
    "Player 1's points: 0, pending: 0\n",
    "Player 2's points: 33, pending: 0\n",
    "The trump suit is: H\n",
    "Player 1's hand: AC JC KD KH AS\n",
    "Player 2's hand: KC QC JH KS QS\n",
    "There are 6 cards in the stock\n",
    "\n",
    "*   Player 2 plays: KS\n",
    "*   Player 2 melds a marriage between KS and QS\n",
    "The game is in phase: 1\n",
    "Player 1's points: 0, pending: 0\n",
    "Player 2's points: 33, pending: 20\n",
    "The trump suit is: H\n",
    "Player 1's hand: AC JC KD KH AS\n",
    "Player 2's hand: KC QC JH KS QS\n",
    "There are 6 cards in the stock\n",
    "Player 2 has played card: K of S\n",
    "\n",
    "*   Player 1 plays: AS\n",
    "The game is in phase: 1\n",
    "Player 1's points: 15, pending: 0\n",
    "Player 2's points: 33, pending: 20\n",
    "The trump suit is: H\n",
    "Player 1's hand: AC JC KD QD KH\n",
    "Player 2's hand: KC QC 10H JH QS\n",
    "There are 4 cards in the stock\n",
    "\n",
    "*   Player 1 plays: QD\n",
    "The game is in phase: 1\n",
    "Player 1's points: 15, pending: 0\n",
    "Player 2's points: 33, pending: 20\n",
    "The trump suit is: H\n",
    "Player 1's hand: AC JC KD QD KH\n",
    "Player 2's hand: KC QC 10H JH QS\n",
    "There are 4 cards in the stock\n",
    "Player 1 has played card: Q of D\n",
    "\n",
    "*   Player 2 plays: 10H\n",
    "The game is in phase: 1\n",
    "Player 1's points: 15, pending: 0\n",
    "Player 2's points: 66, pending: 0\n",
    "The trump suit is: H\n",
    "Player 1's hand: AC JC KD KH JS\n",
    "Player 2's hand: KC QC 10D JH QS\n",
    "There are 2 cards in the stock\n",
    "\n",
    "Game finished. Player 2 has won, receiving 2 points.\n",
    "(2, 2)"
   ]
  },
  {
   "cell_type": "raw",
   "metadata": {},
   "source": [
    "I implied the strategy to get the move with the highest rank available from all suits and replaced it with the random choice being played. It led to winning rand however, losing against rdeep and bully. "
   ]
  },
  {
   "cell_type": "raw",
   "metadata": {},
   "source": [
    "class Bot:\n",
    "\t__randomize = True\n",
    "\n",
    "\tdef __init__(self, randomize=True, depth=5):\n",
    "\t\tself.__max_depth = depth\n",
    "\n",
    "\tdef get_move(self, state):\n",
    "\t\t# type: (State) -> tuple[int, int]\n",
    "\t\t# All legal moves\n",
    "\t\tmoves = state.moves()\n",
    "\t\tchosen_move = moves[0]\n",
    "\t\t# If it is not my turn, then it does not make sense to play the Probabilistic Strategy.\n",
    "\t\t# In that case,  we simply play a random move. This could be done better, but it not\n",
    "\t\t# the purpose of this bot.\n",
    "\t\tfor index, move in enumerate(moves):\n",
    "\t\t\tif move[0] is not None and move[0] % 5 <= chosen_move[0] % 5:\n",
    "\t\t\t\tchosen_move = move\n",
    "\n",
    "\t\treturn chosen_move"
   ]
  }
 ],
 "metadata": {
  "kernelspec": {
   "display_name": "Python 3",
   "language": "python",
   "name": "python3"
  },
  "language_info": {
   "codemirror_mode": {
    "name": "ipython",
    "version": 3
   },
   "file_extension": ".py",
   "mimetype": "text/x-python",
   "name": "python",
   "nbconvert_exporter": "python",
   "pygments_lexer": "ipython3",
   "version": "3.9.0"
  }
 },
 "nbformat": 4,
 "nbformat_minor": 4
}
