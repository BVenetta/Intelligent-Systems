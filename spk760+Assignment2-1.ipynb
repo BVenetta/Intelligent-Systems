{
 "cells": [
  {
   "cell_type": "markdown",
   "metadata": {},
   "source": [
    "# Intelligent Systems 2020: Second practical assignment \n",
    "## Informed Search "
   ]
  },
  {
   "cell_type": "markdown",
   "metadata": {},
   "source": [
    "Your name: Seeun Park\n",
    "\n",
    "Your VUNetID: spk760\n",
    "\n",
    "If you do not provide your name and VUNetID we will not accept your submission. \n",
    "\n",
    "### Learning objectives\n",
    "At the end of this exercise you should be able to understand the implementations of the basic algorithms for informed search. You should be able to: \n",
    "\n",
    "1. Understand the algorithms (be able to explain in your own words) \n",
    "2. Follow the individual steps of the algorithms\n",
    "3. Make small modifications of the code to see the effect on the search algorithms\n",
    "4. Make small adaptations to the algorithm to study the computational properties\n",
    "\n",
    "### Practicalities\n",
    "\n",
    "Follow this Notebook step-by-step. \n",
    "\n",
    "Of course, you can do the exercises in any Programming Editor of your liking. \n",
    "But you do not have to. Feel free to simply write code in the Notebook. Please use your studentID+Assignment2.ipynb as the name of the \n",
    "Notebook.  \n",
    "\n",
    "Note: unlike the courses dedicated to programming we will not evaluate the style of the programs. But we will, however, test your programs on other data that we provide, and your program should give the correct output to the test-data as well.\n",
    "\n",
    "As was mentioned, the assignment is graded as pass/fail. To pass you need to have either a full working code or an explanation of what you tried and what didn't work for the tasks that you were unable to complete (you can use multi-line comments or a text cell).\n",
    "\n",
    "## Initialising \n",
    "\n",
    "First, let us make sure the necessary packages are installed, and imported. Run the following code:"
   ]
  },
  {
   "cell_type": "code",
   "execution_count": 1,
   "metadata": {},
   "outputs": [
    {
     "name": "stdout",
     "output_type": "stream",
     "text": [
      "Requirement already satisfied: numpy in c:\\users\\seeun\\appdata\\local\\programs\\python\\python39\\lib\\site-packages (1.19.3)\n"
     ]
    }
   ],
   "source": [
    "import sys\n",
    "!{sys.executable} -m pip install numpy\n",
    "import datetime\n",
    "import functools\n",
    "import heapq\n",
    "import numpy as np\n",
    "from numpy import random\n",
    "from collections import deque\n",
    "\n",
    "from utils import *\n",
    "\n",
    "# This might produce a warning that numpy is already installed. "
   ]
  },
  {
   "cell_type": "markdown",
   "metadata": {},
   "source": [
    "## Starting your first game"
   ]
  },
  {
   "cell_type": "code",
   "execution_count": 2,
   "metadata": {},
   "outputs": [],
   "source": [
    "HAND_SIZE = 3      #TODO: replace with your desired hand size (3, 5 or 10)\n",
    "STUDENT_NUMBER = 2579950 #TODO: replace with your own student number"
   ]
  },
  {
   "cell_type": "markdown",
   "metadata": {},
   "source": [
    "With the constant HAND_SIZE we decide how many cards we want in our hand. \n",
    "By default it is set to 5, you can change it to any hand size, \n",
    "do keep in mind that the higher the number of cards in your hand, \n",
    "the more branches in the search tree there are, and the longer it will take to run.\n",
    "\n",
    "Your student number is used to set a random seed.\n",
    "There are situations imaginable where you want a pseudo random selection (for example when debugging it's nice to always work with the same values)\n",
    "In short, the seed ensures that you get a pseudo random distribution that will always be the same when you re-run the code.\n",
    "It is a random distribution because you don't have to hard code them in yourself, \n",
    "but it is not random in the sense that the next time you run it you get different cards!\n",
    "For more information on pseudo random number generators, \n",
    "check out https://www.geeksforgeeks.org/pseudo-random-number-generator-prng/."
   ]
  },
  {
   "cell_type": "markdown",
   "metadata": {},
   "source": [
    "### Updated representation\n",
    "\n",
    "You may wonder how the cards for this game are represented. \n",
    "Go to utils and find out in which variable this information is found, print this variable below:"
   ]
  },
  {
   "cell_type": "code",
   "execution_count": 3,
   "metadata": {},
   "outputs": [
    {
     "name": "stdout",
     "output_type": "stream",
     "text": [
      "\n",
      "        h  d  s  c\n",
      "ace  [[ 0  1  2  3]  = 11pts     h = hearts\n",
      "ten   [ 4  5  6  7]  = 10pts     d = diamonds\n",
      "king  [ 8  9 10 11]  = 4pts      s = spades\n",
      "queen [12 13 14 15]  = 3pts      c = clubs\n",
      "jack  [16 17 18 19]] = 2pts\n",
      "For example: '10' is 'king of spades'\n",
      "\n"
     ]
    }
   ],
   "source": [
    "print(representation)"
   ]
  },
  {
   "cell_type": "markdown",
   "metadata": {},
   "source": [
    "Note that cards have values now w.r.t. the game from Assignment 1"
   ]
  },
  {
   "cell_type": "markdown",
   "metadata": {},
   "source": [
    "### Some support functions "
   ]
  },
  {
   "cell_type": "markdown",
   "metadata": {},
   "source": [
    "Next, there are some functions we need for the implementation. Try to get the gist of what they do, but if you do not understand fully, don't worry. The first one returns the points value of a card, the second tests whether a move is valid (so whether a card follows suit, or has the same value). The third is a helper function that checks whether two cards have the same suit, and the fourth function checks whether two cards have the same value. The last one makes a random choice of cards in the hands. \n",
    "\n",
    "We don't expect you to fully understand the coding behind these functions, however, if you are interested you might find the following link useful: https://www.programiz.com/python-programming/matrix. Take a look at how Python Matrices are created and how to access rows and columns. "
   ]
  },
  {
   "cell_type": "code",
   "execution_count": 4,
   "metadata": {},
   "outputs": [],
   "source": [
    "def get_points(cardA):\n",
    "    g = np.arange(20).reshape(5, 4) #this produces the same grid as the representation\n",
    "    if (np.any(g[0] == cardA)): #Ace (11)\n",
    "        return 11\n",
    "    elif (np.any(g[1] == cardA)): #Ten (10)\n",
    "        return 10\n",
    "    elif (np.any(g[2] == cardA)): #King (4)\n",
    "        return 4\n",
    "    elif (np.any(g[3] == cardA)): #Queen (3)\n",
    "        return 3\n",
    "    elif (np.any(g[4] == cardA)): #Jack (2)\n",
    "        return 2\n",
    "\n",
    "def valid_move(cardA, cardB):\n",
    "    #print(\"validMove: comparing \" + str(cardA) + \" to \" + str(cardB)) UNCOMMENT THIS TO SEE WHICH CARDS ARE BEING COMPARED\n",
    "    g = np.arange(20).reshape(5, 4) #this produces the same grid as the representation, for the purpose of checking moves\n",
    "    if check_value(cardA, cardB, g):\n",
    "        return True\n",
    "    elif check_suit(cardA, cardB, g):\n",
    "        return True\n",
    "    else:\n",
    "        #print(\"validMove: No move found\")\n",
    "        return False\n",
    "\n",
    "def check_suit(cardA, cardB, grid):\n",
    "    r, c = grid.shape\n",
    "    for i in range(c):\n",
    "        if np.any(grid[:, i] == cardA) and np.any(grid[:, i] == cardB):\n",
    "            return True\n",
    "\n",
    "def check_value(cardA, cardB, grid):\n",
    "    r, c = grid.shape\n",
    "    for i in range(r):\n",
    "        if np.any(grid[i] == cardA) and np.any(grid[i] == cardB):\n",
    "            return True\n",
    "\n",
    "def pick_cards(seed, size):\n",
    "    random.seed(seed)\n",
    "    cards = np.random.choice(20, (size*2), replace = False)\n",
    "    leftHand = cards[:size]\n",
    "    rightHand = cards[size:]\n",
    "    return (leftHand, rightHand)"
   ]
  },
  {
   "cell_type": "markdown",
   "metadata": {},
   "source": [
    "### Breadth, and Depth First Search"
   ]
  },
  {
   "cell_type": "markdown",
   "metadata": {},
   "source": [
    "From assignment 1 we are already familiar with the Breadth First and Depth First search algorithms. See the code below:"
   ]
  },
  {
   "cell_type": "code",
   "execution_count": 5,
   "metadata": {},
   "outputs": [],
   "source": [
    "def breadth_first_tree_search(problem):\n",
    "    \"\"\"\n",
    "    Search the shallowest nodes in the search tree first.\n",
    "    Search through the successors of a problem to find a goal.\n",
    "    The argument fringe should be an empty queue.\n",
    "    Repeats infinitely in case of loops.\n",
    "    \"\"\"\n",
    "    fringe = deque([Node(problem.initial)])  # FIFO queue\n",
    "    counter = 0\n",
    "    while fringe:\n",
    "        node = fringe.popleft()\n",
    "        counter += 1\n",
    "        if problem.goal_test(node.state):\n",
    "            print(\"###########\")\n",
    "            print(\"success!\")\n",
    "            print(\"solution: {}\".format(node.solution()))\n",
    "            print(\"{} Nodes generated\".format(counter))\n",
    "            return node, counter\n",
    "        fringe.extend(node.expand(problem))\n",
    "    print(\"###########\")\n",
    "    print(\"unfortunately no solution has been found!\")\n",
    "    print(\"{} Nodes generated\".format(counter))\n",
    "    return None"
   ]
  },
  {
   "cell_type": "code",
   "execution_count": 6,
   "metadata": {},
   "outputs": [],
   "source": [
    "def depth_first_tree_search(problem):\n",
    "    \"\"\"\n",
    "    Search the deepest nodes in the search tree first.\n",
    "    Search through the successors of a problem to find a goal.\n",
    "    The argument fringe should be an empty queue.\n",
    "    Repeats infinitely in case of loops.\n",
    "    \"\"\"\n",
    "    fringe = [Node(problem.initial)]  # Stack\n",
    "    counter = 0\n",
    "    while fringe:\n",
    "        node = fringe.pop()\n",
    "        counter += 1\n",
    "        if problem.goal_test(node.state):\n",
    "            print(\"###########\")\n",
    "            print(\"succes!\")\n",
    "            print(\"solution: {}\".format(node.solution()))\n",
    "            print(\"{} Nodes generated\".format(counter))\n",
    "            return node, counter\n",
    "        fringe.extend(node.expand(problem))\n",
    "    print(\"###########\")\n",
    "    print(\"unfortunately no solution has been found!\")\n",
    "    print(\"{} Nodes generated\".format(counter))\n",
    "    return None"
   ]
  },
  {
   "cell_type": "markdown",
   "metadata": {},
   "source": [
    "### Preparing the game\n",
    "To run a search, we need to define an initial state. Run the cells below to generate hands automatically, or define a custom set of hands. Please note that if you use a custom set of hands, you need to replace 'leftHand' and 'rightHand' with 'customLeftHand' and 'customRightHand' at gamestate initialisation."
   ]
  },
  {
   "cell_type": "markdown",
   "metadata": {},
   "source": [
    "The cell below generates the cards for your left and right hand."
   ]
  },
  {
   "cell_type": "code",
   "execution_count": 7,
   "metadata": {},
   "outputs": [
    {
     "name": "stdout",
     "output_type": "stream",
     "text": [
      "Left hand: [12  7 19]\n",
      "Right hand: [ 0  4 16]\n"
     ]
    }
   ],
   "source": [
    "leftHand, rightHand = pick_cards(STUDENT_NUMBER, HAND_SIZE)\n",
    "#customLeftHand = []\n",
    "#customRightHand = []\n",
    "\n",
    "print(\"Left hand: {}\".format(leftHand)) #or customLeftHand\n",
    "print(\"Right hand: {}\".format(rightHand)) #or customRightHand"
   ]
  },
  {
   "cell_type": "markdown",
   "metadata": {},
   "source": [
    "Now we define an initial state, and the problem."
   ]
  },
  {
   "cell_type": "code",
   "execution_count": 8,
   "metadata": {},
   "outputs": [
    {
     "name": "stdout",
     "output_type": "stream",
     "text": [
      "------\n",
      "GameState: Printing state: \n",
      "Left hand: [12  7 19]\n",
      "Right hand: [ 0  4 16]\n",
      "Do we play from left hand to get to next state? True\n",
      "Points scored: 0\n",
      "All cards: [12, 7, 19, 0, 4, 16]\n",
      "All card points: [3, 10, 2, 11, 10, 2]\n",
      "------\n",
      "There are 20 points needed to win(reach goal state)\n",
      "There are 38 points in the game\n"
     ]
    }
   ],
   "source": [
    "initialState = GameState(leftHand, rightHand, True, True)\n",
    "initialState.printState()\n",
    "\n",
    "p = Problem(initialState)\n",
    "print(\"There are {} points needed to win(reach goal state)\".format(p.winPoints))\n",
    "print(\"There are {} points in the game\".format(sum(p.initial.allCardPoints)))\n"
   ]
  },
  {
   "cell_type": "markdown",
   "metadata": {},
   "source": [
    "Comparing the points needed to win versus the total amount of points in the game, what do you notice?\n",
    "Return you (brief) findings to the string variable below:"
   ]
  },
  {
   "cell_type": "code",
   "execution_count": 9,
   "metadata": {},
   "outputs": [],
   "source": [
    "myFindings = \"\"\"The amount of points needed in order to win is lower than the total points that the game \\n\n",
    "consists of. Therefore, allowing the player to lose points but still have the opportunity to win.\"\"\"\n"
   ]
  },
  {
   "cell_type": "markdown",
   "metadata": {},
   "source": [
    "## Task 1:\n",
    "\n",
    "Run Breadth and Depth first search and implement a counter in the algorithm above that prints the number of nodes generated (as you did in the previous assignment, although now to print you must uncomment the print statements instead of formulating your own)."
   ]
  },
  {
   "cell_type": "code",
   "execution_count": 10,
   "metadata": {},
   "outputs": [
    {
     "name": "stdout",
     "output_type": "stream",
     "text": [
      "###########\n",
      "success!\n",
      "solution: [7, 4]\n",
      "8 Nodes generated\n",
      "The Breadth First Search Took 20005 Microseconds\n",
      "###########\n",
      "succes!\n",
      "solution: [19, 16, 12, 4, 7]\n",
      "6 Nodes generated\n",
      "The Depth First Search Took 12019 Microseconds\n"
     ]
    }
   ],
   "source": [
    "startTime = datetime.datetime.now()\n",
    "breadth_first_tree_search(p)\n",
    "endTime = datetime.datetime.now()\n",
    "duration = endTime - startTime\n",
    "print(\"The Breadth First Search Took {} Microseconds\".format(duration.microseconds))\n",
    "\n",
    "startTime = datetime.datetime.now()\n",
    "depth_first_tree_search(p)\n",
    "endTime = datetime.datetime.now()\n",
    "duration = endTime - startTime\n",
    "print(\"The Depth First Search Took {} Microseconds\".format(duration.microseconds))"
   ]
  },
  {
   "cell_type": "markdown",
   "metadata": {},
   "source": [
    "### Greedy Best First Search"
   ]
  },
  {
   "cell_type": "markdown",
   "metadata": {},
   "source": [
    "See the code below for the Greedy Best First Search Algorithm"
   ]
  },
  {
   "cell_type": "code",
   "execution_count": 11,
   "metadata": {},
   "outputs": [],
   "source": [
    "def greedy_best_first_search(problem, f, display=True):\n",
    "    \"\"\"Search the nodes with the lowest f scores first.\n",
    "    You specify the function f(node) that you want to minimize; for example,\n",
    "    if f is a heuristic estimate to the goal, then we have greedy best\n",
    "    first search; \"\"\"\n",
    "    f = memoize(f, 'f')\n",
    "    node = Node(problem.initial)\n",
    "    frontier = PriorityQueue('min', f)\n",
    "    frontier.append(node)\n",
    "    explored = set()\n",
    "    counter = 0\n",
    "    while frontier:\n",
    "        node = frontier.pop()\n",
    "        counter += 1\n",
    "        if problem.goal_test(node.state):\n",
    "            if display:\n",
    "                print(\"Search succesful!\")\n",
    "                print(len(explored), \"paths have been expanded and\", len(frontier), \"paths remain in the frontier\")\n",
    "                print(\"solution: {}\".format(node.solution()))\n",
    "                print(\"{} Nodes generated\".format(counter))\n",
    "            return node\n",
    "        explored.add(node.state)\n",
    "        for child in node.expand(problem):\n",
    "            if child.state not in explored and child not in frontier:\n",
    "                frontier.append(child)\n",
    "            elif child in frontier:\n",
    "                if f(child) < frontier[child]:\n",
    "                    del frontier[child]\n",
    "                    frontier.append(child)\n",
    "    print(\"Search failed\")\n",
    "    print(\"{} Nodes generated\".format(counter))\n",
    "    return None"
   ]
  },
  {
   "cell_type": "markdown",
   "metadata": {},
   "source": [
    "## Task 2\n",
    "\n",
    "Run A Greedy Best First Search and implement a counter in the algorithm above that prints the number of nodes generated (as you did in the previous assignment, although now to print you must uncomment the print statements instead of formulating your own)."
   ]
  },
  {
   "cell_type": "code",
   "execution_count": 23,
   "metadata": {},
   "outputs": [
    {
     "name": "stdout",
     "output_type": "stream",
     "text": [
      "Search succesful!\n",
      "2 paths have been expanded and 2 paths remain in the frontier\n",
      "solution: [7, 4]\n",
      "3 Nodes generated\n",
      "The Greedy Best First Search Took 5007 Microseconds\n"
     ]
    }
   ],
   "source": [
    "startTime = datetime.datetime.now()\n",
    "greedy_best_first_search(p, p.h, True)\n",
    "endTime = datetime.datetime.now()\n",
    "duration = endTime - startTime\n",
    "print(\"The Greedy Best First Search Took {} Microseconds\".format(duration.microseconds))"
   ]
  },
  {
   "cell_type": "markdown",
   "metadata": {},
   "source": [
    "## Task 3 \n",
    "\n",
    "In what way do Depth First Search, Breadth First Search and Greedy Best First Search (using the distance to the goal as heuristic) differ?\n",
    "\n",
    "Return a (brief) report to the multi line string below, take into account the number of nodes counted from the counter you implemented:\n"
   ]
  },
  {
   "cell_type": "code",
   "execution_count": 13,
   "metadata": {},
   "outputs": [],
   "source": [
    "myReport1 = \"\"\"When comparing DFS to BFS, DFS costs less time and space, thus it expands a shorter \\n\n",
    "amount of nodes when reaching the goal state. On the other hand, BFS has a high branching factor, expanding \\n\n",
    "a numerous amount of nodes therefore having a time complexity of b^(d+1) whereas DFS has b^(m). However, both \\n\n",
    "these searches are an uninformed search, but GBFS is an informed search meaning that the amount of nodes \\n\n",
    "expanded is the least in comparison to the uninformed search algorithms. Moreover, GBFS greedily expands the \\n\n",
    "node closest to the goal state, thus resulting in a shorter shortest line distance than DFS. Obviously BFS is \\n\n",
    "inefficient in in comparison to GBFS, however when comparing DFS to GBFS the time complexity is the same \\n\n",
    "value, b^(m) but GBFS takes more space by b^(m).\"\"\""
   ]
  },
  {
   "cell_type": "markdown",
   "metadata": {},
   "source": [
    "## Task 4\n",
    "\n",
    "Run a Greedy Best First Search (again) but this time print the path cost (uncomment the print statement and fill in the right variable.)\n",
    "\n",
    "(Hint: Go into utils.py, in class Node you can see a variable that should help you. Remember that a -successful- search returns a Node which is saved as 'search' here)"
   ]
  },
  {
   "cell_type": "code",
   "execution_count": 14,
   "metadata": {},
   "outputs": [
    {
     "name": "stdout",
     "output_type": "stream",
     "text": [
      "Search succesful!\n",
      "2 paths have been expanded and 2 paths remain in the frontier\n",
      "solution: [7, 4]\n",
      "3 Nodes generated\n",
      "Path cost: 110\n"
     ]
    }
   ],
   "source": [
    "search = greedy_best_first_search(p, p.h)\n",
    "\n",
    "print(\"Path cost: {}\".format(search.path_cost))"
   ]
  },
  {
   "cell_type": "markdown",
   "metadata": {},
   "source": [
    "### A* Search algorithm\n",
    "\n",
    "See the code for the A star search below:"
   ]
  },
  {
   "cell_type": "code",
   "execution_count": 22,
   "metadata": {},
   "outputs": [],
   "source": [
    "def astar_search(problem, h=None, display=True):\n",
    "    \"\"\"A* search is best-first graph search with f(n) = g(n)+h(n).\n",
    "    You need to specify the h function when you call astar_search, or\n",
    "    else in your Problem subclass.\"\"\"\n",
    "    h = memoize(problem.h, 'h')\n",
    "    return greedy_best_first_search(problem, lambda n: n.path_cost + h(n), display)"
   ]
  },
  {
   "cell_type": "markdown",
   "metadata": {},
   "source": [
    "## Task 5\n",
    "\n",
    "Consider the the solution of a greedy best first search and an a star search:"
   ]
  },
  {
   "cell_type": "code",
   "execution_count": 21,
   "metadata": {},
   "outputs": [
    {
     "name": "stdout",
     "output_type": "stream",
     "text": [
      "Greedy Best First Search: \n",
      "Search succesful!\n",
      "2 paths have been expanded and 2 paths remain in the frontier\n",
      "solution: [7, 4]\n",
      "3 Nodes generated\n",
      "Path cost: 110\n",
      "A Star Search: \n",
      "Search succesful!\n",
      "11 paths have been expanded and 3 paths remain in the frontier\n",
      "solution: [19, 16, 12, 4, 7]\n",
      "12 Nodes generated\n",
      "Path cost: 84\n"
     ]
    }
   ],
   "source": [
    "print(\"Greedy Best First Search: \")\n",
    "gbf = greedy_best_first_search(p, p.h, True)\n",
    "print(\"Path cost: {}\".format(gbf.path_cost))\n",
    "\n",
    "print(\"A Star Search: \")\n",
    "ast = astar_search(p)\n",
    "print(\"Path cost: {}\".format(ast.path_cost))\n"
   ]
  },
  {
   "cell_type": "markdown",
   "metadata": {},
   "source": [
    "Explain in your own words what the difference between the two algorithms is, and why the solutions differ. Return your explanation to the multi line string below:"
   ]
  },
  {
   "cell_type": "code",
   "execution_count": 20,
   "metadata": {},
   "outputs": [],
   "source": [
    "myExplanation = \"\"\"The evaluation function for the greedy best first search(GBFS) is f(n) = h(n), whereas \\n\n",
    "for the A* search it is f(n) = h(n) + g(n). When f(n) estimates the total cost of the path through the nodes \\n\n",
    "to get to the goal, h(n) is an estimate of the cost from the node to the goal. Finally g(n) is the cost to \\n\n",
    "reach the node. The difference in the evaluation function is caused because the goal for GBFS is to expand \\n\n",
    "the node which is closest to the goal state and A* search tries to avoid all expansions to nodes that cost a \\n\n",
    "lot in order to expand. Therefore, A* search never overestimates the cost to reach the goal state when the \\n\n",
    "heuristic is admissible. In regards, to expanding and generating the nodes GBFS stores the minimum amount of \\n\n",
    "memory because it does not need to keep the information of the nodes that have been expanded. On the other \\n\n",
    "hand, A* search stores all the nodes which takes a lot of memory as can be seen by the difference between the \\n\n",
    "number of nodes generated. Despite the fact that A* uses up more memory than GBFS. However, it is optimal and \\n\n",
    "complete, but GBFS is incomplete and non-optimal.\"\"\""
   ]
  },
  {
   "cell_type": "markdown",
   "metadata": {},
   "source": [
    "## Task 6\n",
    "\n",
    "Implement the second heuristic as described on Canvas in the customHeuristic function. Remove the multi line string quotation marks when done to run."
   ]
  },
  {
   "cell_type": "code",
   "execution_count": 19,
   "metadata": {},
   "outputs": [
    {
     "name": "stdout",
     "output_type": "stream",
     "text": [
      "Search succesful!\n",
      "11 paths have been expanded and 3 paths remain in the frontier\n",
      "solution: [19, 16, 12, 4, 7]\n",
      "12 Nodes generated\n"
     ]
    },
    {
     "data": {
      "text/plain": [
       "<Node [][0]>"
      ]
     },
     "execution_count": 19,
     "metadata": {},
     "output_type": "execute_result"
    }
   ],
   "source": [
    "\n",
    "def customHeuristic(n=lambda n:n): \n",
    "#    print(\"using custom heuristic\")\n",
    "    \n",
    "    total_add_up = sum(n.state.allCardPoints)\n",
    "    \n",
    "    number_of_cards = len(n.state.allCards)\n",
    "            \n",
    "    mincost = number_of_cards * (number_of_cards + 1)\n",
    "    \n",
    "    averagecardvalue = total_add_up / number_of_cards\n",
    "    \n",
    "    H2 = mincost - averagecardvalue\n",
    "\n",
    "    #33 is points to win for hand size of 5, it depends on the hand size\n",
    "    return(H2) #n is the node, n.state is its state, n.state.pointsScored = the points scored so far\n",
    "\n",
    "p.H2 = customHeuristic\n",
    "\n",
    "astar_search(p, p.H2)\n",
    "\n"
   ]
  },
  {
   "cell_type": "markdown",
   "metadata": {},
   "source": [
    "## Task 7 (Optional)\n",
    "\n",
    "Try to find a better heuristics than h1 and h2 and implement them as you did above. "
   ]
  },
  {
   "cell_type": "code",
   "execution_count": null,
   "metadata": {},
   "outputs": [],
   "source": []
  },
  {
   "cell_type": "code",
   "execution_count": null,
   "metadata": {},
   "outputs": [],
   "source": []
  }
 ],
 "metadata": {
  "kernelspec": {
   "display_name": "Python 3",
   "language": "python",
   "name": "python3"
  },
  "language_info": {
   "codemirror_mode": {
    "name": "ipython",
    "version": 3
   },
   "file_extension": ".py",
   "mimetype": "text/x-python",
   "name": "python",
   "nbconvert_exporter": "python",
   "pygments_lexer": "ipython3",
   "version": "3.9.0"
  }
 },
 "nbformat": 4,
 "nbformat_minor": 4
}
