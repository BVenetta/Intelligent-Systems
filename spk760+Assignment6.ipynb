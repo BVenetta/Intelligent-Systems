{
 "cells": [
  {
   "cell_type": "markdown",
   "metadata": {},
   "source": [
    "# Intelligent Systems 2020: 6th  practical assignment \n",
    "## Machine Learning Agents\n",
    "\n",
    "Your name: Seeun Park\n",
    "\n",
    "Your VUnetID: spk760\n",
    "\n",
    "If you do not provide your name and VUnetID we will not accept your submission. \n",
    "\n",
    "### Preliminaries\n",
    "\n",
    "At the end of this exercise you should be able to work with some basic Machine Learning concepts, and implement and evaluate a learning-based approach to playing Schnapsen. In this notebook we are going to create an adaptive bot. We will use the principle discussed in the machine learning lecture, but now in an agent setting. This comes down to using basic hill-climbing search, but learn the heuristic function rather than implementing it. This will require a few basic ingredients:\n",
    "\n",
    "> Script that plays games between existing bots and creates a dataset to learn from. The dataset contains each observed state, labeled with the (eventual) winner of the game. See the script train-ml-bot.py.<br>\n",
    "> A function that translates a state object to a feature vector. See the function features(...) in ml.py<br>\n",
    "> An implementation with a hill-climbing bot that gets its heuristic from a machine learning model. See bots/ml/ml.py \n",
    "\n",
    "Feature vectors were discussed in the lecture. Didn't get it, or working ahead? See\n",
    "https://brilliant.org/wiki/feature-vector/\n",
    "https://www.youtube.com/watch?v=3Vy47dbI708\n",
    "\n",
    "\n",
    "\n",
    "### Practicalities\n",
    "\n",
    "Follow this Notebook step-by-step. For this course it is necessary that you manipulate the python programmes we provide. You can do the exercises in any Programming Editor of your liking. Still, please fill in the questions in this notebook as usual. You can also run tournaments in it if you want, but running them in your editor or via the commandline seems much more convenient. \n",
    "\n",
    "Please use your studentID+Assignment6.ipynb as the name of the Notebook, and fill in the missing cells.   \n",
    "\n",
    "Note: unlike the courses dedicated to programming we will not evaluate the style of the programs. But we will, however, test your programs on other data that we provide, and your program should give the correct output to the test-data as well.\n",
    "\n",
    "As was mentioned, the assignment is graded as pass/fail. To pass you need to have either a full working code or an explanation of what you tried and what didn't work for the tasks that you were unable to complete (you can use multi-line comments or a text cell).\n"
   ]
  },
  {
   "cell_type": "markdown",
   "metadata": {},
   "source": [
    "## Train a Machine Learning Model \n",
    "\n",
    "The plan is as follows: we run the train-ml-bot.py script, which creates a model for us, and places it in the bots/ml directory. All you need to do is to is to complete the feature extraction method in bots/ml/ml.py It returns a basic feature vector modelling the properties of the game state, or more precisely the bot’s perspective of the game state (which means that in phase 1 of the game there are parts of the feature values unknown (for the cards that are either in the adversaries hands or in the pile). \n",
    "\n",
    "To complete the function, you'll need to write some code which transforms information you get from state.py into integer values.\n",
    "\n",
    "To run the bots using the commandline/terminal:\n",
    "    - If you want to play 2 bots against each other, e.g. rand and bully: python play.py -1 rand -2 bully\n",
    "    - To see what other options there are: python play.py --help\n",
    "    - If you run python tournament.py it'll play a round-robin tournament between bully, rand and rdeep where every pair of players play 10 matches. Run python tournament.py --help to see how you can change the players, and the number of games played (if needed).\n",
    "\n",
    "### Task 1\n",
    "\n",
    "Fill in the missing code (all the '???' lines) and run a number of games to check whether your agent \"works\". You can either run the play.py script in a command line, or copy the play code from one of the previous notebooks here (do not forget to import all the necessary modules and code). \n",
    "\n",
    "Please copy you code in the following cell\n",
    "\n",
    "\n"
   ]
  },
  {
   "cell_type": "code",
   "execution_count": null,
   "metadata": {},
   "outputs": [],
   "source": [
    "next_state = state.next(move)\n",
    "\n",
    "    # Add player 1's points to feature set\n",
    "    p1_points = state.get_points(1)\n",
    "\n",
    "    # Add player 2's points to feature set\n",
    "    p2_points = state.get_points(2)\n",
    "\n",
    "    # Add player 1's pending points to feature set\n",
    "    p1_pending_points = state.get_pending_points(1)\n",
    "\n",
    "    # Add plauer 2's pending points to feature set\n",
    "    p2_pending_points = state.get_pending_points(2)\n",
    "\n",
    "    # Get trump suit\n",
    "    trump_suit = state.get_trump_suit()\n",
    "\n",
    "    # Add phase to feature set\n",
    "    phase = state.get_phase()\n",
    "    \n",
    "    # Add stock size to feature set\n",
    "    stock_size = state.get_stock_size()\n",
    "\n",
    "    # Add leader to feature set\n",
    "    leader = state.leader()\n",
    "\n",
    "    # Add whose turn it is to feature set\n",
    "    whose_turn = state.whose_turn()\n",
    "\n",
    "    # Add opponent's played card to feature set\n",
    "    opponents_played_card = state.get_opponents_played_card()"
   ]
  },
  {
   "cell_type": "markdown",
   "metadata": {},
   "source": [
    "Run a tournament between rand, bully and ml, and copy the result of the tournament in the following cell. "
   ]
  },
  {
   "cell_type": "code",
   "execution_count": 1,
   "metadata": {},
   "outputs": [],
   "source": [
    "import sys, random\n",
    "\n",
    "from api import State, engine, util"
   ]
  },
  {
   "cell_type": "code",
   "execution_count": 8,
   "metadata": {},
   "outputs": [
    {
     "name": "stderr",
     "output_type": "stream",
     "text": [
      "Traceback (most recent call last):\n",
      "  File \"C:\\Users\\seeun\\Desktop\\Intelligent Systems\\Practical\\Assignment 6\\api\\util.py\", line 73, in load_player\n",
      "    player = cls() # Instantiate the class\n",
      "  File \"C:\\Users\\seeun\\Desktop\\Intelligent Systems\\Practical\\Assignment 6\\bots\\ml\\ml.py\", line 29, in __init__\n",
      "    self.__model = joblib.load(model_file)\n",
      "  File \"c:\\users\\seeun\\appdata\\local\\programs\\python\\python39\\lib\\site-packages\\joblib\\numpy_pickle.py\", line 577, in load\n",
      "    with open(filename, 'rb') as f:\n",
      "FileNotFoundError: [Errno 2] No such file or directory: 'C:\\\\Users\\\\seeun\\\\Desktop\\\\Intelligent Systems\\\\Practical\\\\Assignment 6\\\\bots\\\\ml/model.pkl'\n",
      "ERROR:root:Internal Python error in the inspect module.\n",
      "Below is the traceback from this internal error.\n",
      "\n"
     ]
    },
    {
     "name": "stdout",
     "output_type": "stream",
     "text": [
      "C:\\Users\\seeun\\Desktop\\Intelligent Systems\\Practical\\Assignment 6\\bots\\ml/model.pkl\n",
      "ERROR: Could not load the class \"Bot\" Bot from file ./bots/ml/ml.py.\n",
      "Traceback (most recent call last):\n",
      "  File \"C:\\Users\\seeun\\Desktop\\Intelligent Systems\\Practical\\Assignment 6\\api\\util.py\", line 73, in load_player\n",
      "    player = cls() # Instantiate the class\n",
      "  File \"C:\\Users\\seeun\\Desktop\\Intelligent Systems\\Practical\\Assignment 6\\bots\\ml\\ml.py\", line 29, in __init__\n",
      "    self.__model = joblib.load(model_file)\n",
      "  File \"c:\\users\\seeun\\appdata\\local\\programs\\python\\python39\\lib\\site-packages\\joblib\\numpy_pickle.py\", line 577, in load\n",
      "    with open(filename, 'rb') as f:\n",
      "FileNotFoundError: [Errno 2] No such file or directory: 'C:\\\\Users\\\\seeun\\\\Desktop\\\\Intelligent Systems\\\\Practical\\\\Assignment 6\\\\bots\\\\ml/model.pkl'\n",
      "\n",
      "During handling of the above exception, another exception occurred:\n",
      "\n",
      "Traceback (most recent call last):\n",
      "  File \"c:\\users\\seeun\\appdata\\local\\programs\\python\\python39\\lib\\site-packages\\IPython\\core\\interactiveshell.py\", line 3418, in run_code\n",
      "    exec(code_obj, self.user_global_ns, self.user_ns)\n",
      "  File \"<ipython-input-8-0ae074189e58>\", line 9, in <module>\n",
      "    player3 = util.load_player(\"ml\")\n",
      "  File \"C:\\Users\\seeun\\Desktop\\Intelligent Systems\\Practical\\Assignment 6\\api\\util.py\", line 78, in load_player\n",
      "    sys.exit()\n",
      "SystemExit\n",
      "\n",
      "During handling of the above exception, another exception occurred:\n",
      "\n",
      "Traceback (most recent call last):\n",
      "  File \"c:\\users\\seeun\\appdata\\local\\programs\\python\\python39\\lib\\site-packages\\IPython\\core\\ultratb.py\", line 1170, in get_records\n",
      "    return _fixed_getinnerframes(etb, number_of_lines_of_context, tb_offset)\n",
      "  File \"c:\\users\\seeun\\appdata\\local\\programs\\python\\python39\\lib\\site-packages\\IPython\\core\\ultratb.py\", line 316, in wrapped\n",
      "    return f(*args, **kwargs)\n",
      "  File \"c:\\users\\seeun\\appdata\\local\\programs\\python\\python39\\lib\\site-packages\\IPython\\core\\ultratb.py\", line 350, in _fixed_getinnerframes\n",
      "    records = fix_frame_records_filenames(inspect.getinnerframes(etb, context))\n",
      "  File \"c:\\users\\seeun\\appdata\\local\\programs\\python\\python39\\lib\\inspect.py\", line 1529, in getinnerframes\n",
      "    frameinfo = (tb.tb_frame,) + getframeinfo(tb, context)\n",
      "AttributeError: 'tuple' object has no attribute 'tb_frame'\n"
     ]
    },
    {
     "ename": "TypeError",
     "evalue": "object of type 'NoneType' has no len()",
     "output_type": "error",
     "traceback": [
      "\u001b[1;31m---------------------------------------------------------------------------\u001b[0m",
      "\u001b[1;31mFileNotFoundError\u001b[0m                         Traceback (most recent call last)",
      "\u001b[1;32m~\\Desktop\\Intelligent Systems\\Practical\\Assignment 6\\api\\util.py\u001b[0m in \u001b[0;36mload_player\u001b[1;34m(name, classname)\u001b[0m\n\u001b[0;32m     72\u001b[0m         \u001b[0mcls\u001b[0m \u001b[1;33m=\u001b[0m \u001b[0mgetattr\u001b[0m\u001b[1;33m(\u001b[0m\u001b[0mmodule\u001b[0m\u001b[1;33m,\u001b[0m \u001b[0mclassname\u001b[0m\u001b[1;33m)\u001b[0m\u001b[1;33m\u001b[0m\u001b[1;33m\u001b[0m\u001b[0m\n\u001b[1;32m---> 73\u001b[1;33m         \u001b[0mplayer\u001b[0m \u001b[1;33m=\u001b[0m \u001b[0mcls\u001b[0m\u001b[1;33m(\u001b[0m\u001b[1;33m)\u001b[0m \u001b[1;31m# Instantiate the class\u001b[0m\u001b[1;33m\u001b[0m\u001b[1;33m\u001b[0m\u001b[0m\n\u001b[0m\u001b[0;32m     74\u001b[0m         \u001b[0mplayer\u001b[0m\u001b[1;33m.\u001b[0m\u001b[0m__init__\u001b[0m\u001b[1;33m(\u001b[0m\u001b[1;33m)\u001b[0m\u001b[1;33m\u001b[0m\u001b[1;33m\u001b[0m\u001b[0m\n",
      "\u001b[1;32m~\\Desktop\\Intelligent Systems\\Practical\\Assignment 6\\bots\\ml\\ml.py\u001b[0m in \u001b[0;36m__init__\u001b[1;34m(self, randomize, model_file)\u001b[0m\n\u001b[0;32m     28\u001b[0m         \u001b[1;31m# Load the model\u001b[0m\u001b[1;33m\u001b[0m\u001b[1;33m\u001b[0m\u001b[1;33m\u001b[0m\u001b[0m\n\u001b[1;32m---> 29\u001b[1;33m         \u001b[0mself\u001b[0m\u001b[1;33m.\u001b[0m\u001b[0m__model\u001b[0m \u001b[1;33m=\u001b[0m \u001b[0mjoblib\u001b[0m\u001b[1;33m.\u001b[0m\u001b[0mload\u001b[0m\u001b[1;33m(\u001b[0m\u001b[0mmodel_file\u001b[0m\u001b[1;33m)\u001b[0m\u001b[1;33m\u001b[0m\u001b[1;33m\u001b[0m\u001b[0m\n\u001b[0m\u001b[0;32m     30\u001b[0m \u001b[1;33m\u001b[0m\u001b[0m\n",
      "\u001b[1;32mc:\\users\\seeun\\appdata\\local\\programs\\python\\python39\\lib\\site-packages\\joblib\\numpy_pickle.py\u001b[0m in \u001b[0;36mload\u001b[1;34m(filename, mmap_mode)\u001b[0m\n\u001b[0;32m    576\u001b[0m     \u001b[1;32melse\u001b[0m\u001b[1;33m:\u001b[0m\u001b[1;33m\u001b[0m\u001b[1;33m\u001b[0m\u001b[0m\n\u001b[1;32m--> 577\u001b[1;33m         \u001b[1;32mwith\u001b[0m \u001b[0mopen\u001b[0m\u001b[1;33m(\u001b[0m\u001b[0mfilename\u001b[0m\u001b[1;33m,\u001b[0m \u001b[1;34m'rb'\u001b[0m\u001b[1;33m)\u001b[0m \u001b[1;32mas\u001b[0m \u001b[0mf\u001b[0m\u001b[1;33m:\u001b[0m\u001b[1;33m\u001b[0m\u001b[1;33m\u001b[0m\u001b[0m\n\u001b[0m\u001b[0;32m    578\u001b[0m             \u001b[1;32mwith\u001b[0m \u001b[0m_read_fileobject\u001b[0m\u001b[1;33m(\u001b[0m\u001b[0mf\u001b[0m\u001b[1;33m,\u001b[0m \u001b[0mfilename\u001b[0m\u001b[1;33m,\u001b[0m \u001b[0mmmap_mode\u001b[0m\u001b[1;33m)\u001b[0m \u001b[1;32mas\u001b[0m \u001b[0mfobj\u001b[0m\u001b[1;33m:\u001b[0m\u001b[1;33m\u001b[0m\u001b[1;33m\u001b[0m\u001b[0m\n",
      "\u001b[1;31mFileNotFoundError\u001b[0m: [Errno 2] No such file or directory: 'C:\\\\Users\\\\seeun\\\\Desktop\\\\Intelligent Systems\\\\Practical\\\\Assignment 6\\\\bots\\\\ml/model.pkl'",
      "\nDuring handling of the above exception, another exception occurred:\n",
      "\u001b[1;31mSystemExit\u001b[0m                                Traceback (most recent call last)",
      "    \u001b[1;31m[... skipping hidden 1 frame]\u001b[0m\n",
      "\u001b[1;32m<ipython-input-8-0ae074189e58>\u001b[0m in \u001b[0;36m<module>\u001b[1;34m\u001b[0m\n\u001b[0;32m      8\u001b[0m \u001b[0mplayer2\u001b[0m \u001b[1;33m=\u001b[0m \u001b[0mutil\u001b[0m\u001b[1;33m.\u001b[0m\u001b[0mload_player\u001b[0m\u001b[1;33m(\u001b[0m\u001b[1;34m\"bully\"\u001b[0m\u001b[1;33m)\u001b[0m\u001b[1;33m\u001b[0m\u001b[1;33m\u001b[0m\u001b[0m\n\u001b[1;32m----> 9\u001b[1;33m \u001b[0mplayer3\u001b[0m \u001b[1;33m=\u001b[0m \u001b[0mutil\u001b[0m\u001b[1;33m.\u001b[0m\u001b[0mload_player\u001b[0m\u001b[1;33m(\u001b[0m\u001b[1;34m\"ml\"\u001b[0m\u001b[1;33m)\u001b[0m\u001b[1;33m\u001b[0m\u001b[1;33m\u001b[0m\u001b[0m\n\u001b[0m\u001b[0;32m     10\u001b[0m \u001b[1;33m\u001b[0m\u001b[0m\n",
      "\u001b[1;32m~\\Desktop\\Intelligent Systems\\Practical\\Assignment 6\\api\\util.py\u001b[0m in \u001b[0;36mload_player\u001b[1;34m(name, classname)\u001b[0m\n\u001b[0;32m     77\u001b[0m         \u001b[0mtraceback\u001b[0m\u001b[1;33m.\u001b[0m\u001b[0mprint_exc\u001b[0m\u001b[1;33m(\u001b[0m\u001b[1;33m)\u001b[0m\u001b[1;33m\u001b[0m\u001b[1;33m\u001b[0m\u001b[0m\n\u001b[1;32m---> 78\u001b[1;33m         \u001b[0msys\u001b[0m\u001b[1;33m.\u001b[0m\u001b[0mexit\u001b[0m\u001b[1;33m(\u001b[0m\u001b[1;33m)\u001b[0m\u001b[1;33m\u001b[0m\u001b[1;33m\u001b[0m\u001b[0m\n\u001b[0m\u001b[0;32m     79\u001b[0m \u001b[1;33m\u001b[0m\u001b[0m\n",
      "\u001b[1;31mSystemExit\u001b[0m: ",
      "\nDuring handling of the above exception, another exception occurred:\n",
      "\u001b[1;31mTypeError\u001b[0m                                 Traceback (most recent call last)",
      "    \u001b[1;31m[... skipping hidden 1 frame]\u001b[0m\n",
      "\u001b[1;32mc:\\users\\seeun\\appdata\\local\\programs\\python\\python39\\lib\\site-packages\\IPython\\core\\interactiveshell.py\u001b[0m in \u001b[0;36mshowtraceback\u001b[1;34m(self, exc_tuple, filename, tb_offset, exception_only, running_compiled_code)\u001b[0m\n\u001b[0;32m   2036\u001b[0m                     stb = ['An exception has occurred, use %tb to see '\n\u001b[0;32m   2037\u001b[0m                            'the full traceback.\\n']\n\u001b[1;32m-> 2038\u001b[1;33m                     stb.extend(self.InteractiveTB.get_exception_only(etype,\n\u001b[0m\u001b[0;32m   2039\u001b[0m                                                                      value))\n\u001b[0;32m   2040\u001b[0m                 \u001b[1;32melse\u001b[0m\u001b[1;33m:\u001b[0m\u001b[1;33m\u001b[0m\u001b[1;33m\u001b[0m\u001b[0m\n",
      "\u001b[1;32mc:\\users\\seeun\\appdata\\local\\programs\\python\\python39\\lib\\site-packages\\IPython\\core\\ultratb.py\u001b[0m in \u001b[0;36mget_exception_only\u001b[1;34m(self, etype, value)\u001b[0m\n\u001b[0;32m    821\u001b[0m         \u001b[0mvalue\u001b[0m \u001b[1;33m:\u001b[0m \u001b[0mexception\u001b[0m \u001b[0mvalue\u001b[0m\u001b[1;33m\u001b[0m\u001b[1;33m\u001b[0m\u001b[0m\n\u001b[0;32m    822\u001b[0m         \"\"\"\n\u001b[1;32m--> 823\u001b[1;33m         \u001b[1;32mreturn\u001b[0m \u001b[0mListTB\u001b[0m\u001b[1;33m.\u001b[0m\u001b[0mstructured_traceback\u001b[0m\u001b[1;33m(\u001b[0m\u001b[0mself\u001b[0m\u001b[1;33m,\u001b[0m \u001b[0metype\u001b[0m\u001b[1;33m,\u001b[0m \u001b[0mvalue\u001b[0m\u001b[1;33m)\u001b[0m\u001b[1;33m\u001b[0m\u001b[1;33m\u001b[0m\u001b[0m\n\u001b[0m\u001b[0;32m    824\u001b[0m \u001b[1;33m\u001b[0m\u001b[0m\n\u001b[0;32m    825\u001b[0m     \u001b[1;32mdef\u001b[0m \u001b[0mshow_exception_only\u001b[0m\u001b[1;33m(\u001b[0m\u001b[0mself\u001b[0m\u001b[1;33m,\u001b[0m \u001b[0metype\u001b[0m\u001b[1;33m,\u001b[0m \u001b[0mevalue\u001b[0m\u001b[1;33m)\u001b[0m\u001b[1;33m:\u001b[0m\u001b[1;33m\u001b[0m\u001b[1;33m\u001b[0m\u001b[0m\n",
      "\u001b[1;32mc:\\users\\seeun\\appdata\\local\\programs\\python\\python39\\lib\\site-packages\\IPython\\core\\ultratb.py\u001b[0m in \u001b[0;36mstructured_traceback\u001b[1;34m(self, etype, evalue, etb, tb_offset, context)\u001b[0m\n\u001b[0;32m    696\u001b[0m             \u001b[0mchained_exceptions_tb_offset\u001b[0m \u001b[1;33m=\u001b[0m \u001b[1;36m0\u001b[0m\u001b[1;33m\u001b[0m\u001b[1;33m\u001b[0m\u001b[0m\n\u001b[0;32m    697\u001b[0m             out_list = (\n\u001b[1;32m--> 698\u001b[1;33m                 self.structured_traceback(\n\u001b[0m\u001b[0;32m    699\u001b[0m                     \u001b[0metype\u001b[0m\u001b[1;33m,\u001b[0m \u001b[0mevalue\u001b[0m\u001b[1;33m,\u001b[0m \u001b[1;33m(\u001b[0m\u001b[0metb\u001b[0m\u001b[1;33m,\u001b[0m \u001b[0mchained_exc_ids\u001b[0m\u001b[1;33m)\u001b[0m\u001b[1;33m,\u001b[0m\u001b[1;33m\u001b[0m\u001b[1;33m\u001b[0m\u001b[0m\n\u001b[0;32m    700\u001b[0m                     chained_exceptions_tb_offset, context)\n",
      "\u001b[1;32mc:\\users\\seeun\\appdata\\local\\programs\\python\\python39\\lib\\site-packages\\IPython\\core\\ultratb.py\u001b[0m in \u001b[0;36mstructured_traceback\u001b[1;34m(self, etype, value, tb, tb_offset, number_of_lines_of_context)\u001b[0m\n\u001b[0;32m   1434\u001b[0m         \u001b[1;32melse\u001b[0m\u001b[1;33m:\u001b[0m\u001b[1;33m\u001b[0m\u001b[1;33m\u001b[0m\u001b[0m\n\u001b[0;32m   1435\u001b[0m             \u001b[0mself\u001b[0m\u001b[1;33m.\u001b[0m\u001b[0mtb\u001b[0m \u001b[1;33m=\u001b[0m \u001b[0mtb\u001b[0m\u001b[1;33m\u001b[0m\u001b[1;33m\u001b[0m\u001b[0m\n\u001b[1;32m-> 1436\u001b[1;33m         return FormattedTB.structured_traceback(\n\u001b[0m\u001b[0;32m   1437\u001b[0m             self, etype, value, tb, tb_offset, number_of_lines_of_context)\n\u001b[0;32m   1438\u001b[0m \u001b[1;33m\u001b[0m\u001b[0m\n",
      "\u001b[1;32mc:\\users\\seeun\\appdata\\local\\programs\\python\\python39\\lib\\site-packages\\IPython\\core\\ultratb.py\u001b[0m in \u001b[0;36mstructured_traceback\u001b[1;34m(self, etype, value, tb, tb_offset, number_of_lines_of_context)\u001b[0m\n\u001b[0;32m   1334\u001b[0m         \u001b[1;32mif\u001b[0m \u001b[0mmode\u001b[0m \u001b[1;32min\u001b[0m \u001b[0mself\u001b[0m\u001b[1;33m.\u001b[0m\u001b[0mverbose_modes\u001b[0m\u001b[1;33m:\u001b[0m\u001b[1;33m\u001b[0m\u001b[1;33m\u001b[0m\u001b[0m\n\u001b[0;32m   1335\u001b[0m             \u001b[1;31m# Verbose modes need a full traceback\u001b[0m\u001b[1;33m\u001b[0m\u001b[1;33m\u001b[0m\u001b[1;33m\u001b[0m\u001b[0m\n\u001b[1;32m-> 1336\u001b[1;33m             return VerboseTB.structured_traceback(\n\u001b[0m\u001b[0;32m   1337\u001b[0m                 \u001b[0mself\u001b[0m\u001b[1;33m,\u001b[0m \u001b[0metype\u001b[0m\u001b[1;33m,\u001b[0m \u001b[0mvalue\u001b[0m\u001b[1;33m,\u001b[0m \u001b[0mtb\u001b[0m\u001b[1;33m,\u001b[0m \u001b[0mtb_offset\u001b[0m\u001b[1;33m,\u001b[0m \u001b[0mnumber_of_lines_of_context\u001b[0m\u001b[1;33m\u001b[0m\u001b[1;33m\u001b[0m\u001b[0m\n\u001b[0;32m   1338\u001b[0m             )\n",
      "\u001b[1;32mc:\\users\\seeun\\appdata\\local\\programs\\python\\python39\\lib\\site-packages\\IPython\\core\\ultratb.py\u001b[0m in \u001b[0;36mstructured_traceback\u001b[1;34m(self, etype, evalue, etb, tb_offset, number_of_lines_of_context)\u001b[0m\n\u001b[0;32m   1191\u001b[0m         \u001b[1;34m\"\"\"Return a nice text document describing the traceback.\"\"\"\u001b[0m\u001b[1;33m\u001b[0m\u001b[1;33m\u001b[0m\u001b[0m\n\u001b[0;32m   1192\u001b[0m \u001b[1;33m\u001b[0m\u001b[0m\n\u001b[1;32m-> 1193\u001b[1;33m         formatted_exception = self.format_exception_as_a_whole(etype, evalue, etb, number_of_lines_of_context,\n\u001b[0m\u001b[0;32m   1194\u001b[0m                                                                tb_offset)\n\u001b[0;32m   1195\u001b[0m \u001b[1;33m\u001b[0m\u001b[0m\n",
      "\u001b[1;32mc:\\users\\seeun\\appdata\\local\\programs\\python\\python39\\lib\\site-packages\\IPython\\core\\ultratb.py\u001b[0m in \u001b[0;36mformat_exception_as_a_whole\u001b[1;34m(self, etype, evalue, etb, number_of_lines_of_context, tb_offset)\u001b[0m\n\u001b[0;32m   1149\u001b[0m \u001b[1;33m\u001b[0m\u001b[0m\n\u001b[0;32m   1150\u001b[0m \u001b[1;33m\u001b[0m\u001b[0m\n\u001b[1;32m-> 1151\u001b[1;33m         \u001b[0mlast_unique\u001b[0m\u001b[1;33m,\u001b[0m \u001b[0mrecursion_repeat\u001b[0m \u001b[1;33m=\u001b[0m \u001b[0mfind_recursion\u001b[0m\u001b[1;33m(\u001b[0m\u001b[0morig_etype\u001b[0m\u001b[1;33m,\u001b[0m \u001b[0mevalue\u001b[0m\u001b[1;33m,\u001b[0m \u001b[0mrecords\u001b[0m\u001b[1;33m)\u001b[0m\u001b[1;33m\u001b[0m\u001b[1;33m\u001b[0m\u001b[0m\n\u001b[0m\u001b[0;32m   1152\u001b[0m \u001b[1;33m\u001b[0m\u001b[0m\n\u001b[0;32m   1153\u001b[0m         \u001b[0mframes\u001b[0m \u001b[1;33m=\u001b[0m \u001b[0mself\u001b[0m\u001b[1;33m.\u001b[0m\u001b[0mformat_records\u001b[0m\u001b[1;33m(\u001b[0m\u001b[0mrecords\u001b[0m\u001b[1;33m,\u001b[0m \u001b[0mlast_unique\u001b[0m\u001b[1;33m,\u001b[0m \u001b[0mrecursion_repeat\u001b[0m\u001b[1;33m)\u001b[0m\u001b[1;33m\u001b[0m\u001b[1;33m\u001b[0m\u001b[0m\n",
      "\u001b[1;32mc:\\users\\seeun\\appdata\\local\\programs\\python\\python39\\lib\\site-packages\\IPython\\core\\ultratb.py\u001b[0m in \u001b[0;36mfind_recursion\u001b[1;34m(etype, value, records)\u001b[0m\n\u001b[0;32m    449\u001b[0m     \u001b[1;31m# first frame (from in to out) that looks different.\u001b[0m\u001b[1;33m\u001b[0m\u001b[1;33m\u001b[0m\u001b[1;33m\u001b[0m\u001b[0m\n\u001b[0;32m    450\u001b[0m     \u001b[1;32mif\u001b[0m \u001b[1;32mnot\u001b[0m \u001b[0mis_recursion_error\u001b[0m\u001b[1;33m(\u001b[0m\u001b[0metype\u001b[0m\u001b[1;33m,\u001b[0m \u001b[0mvalue\u001b[0m\u001b[1;33m,\u001b[0m \u001b[0mrecords\u001b[0m\u001b[1;33m)\u001b[0m\u001b[1;33m:\u001b[0m\u001b[1;33m\u001b[0m\u001b[1;33m\u001b[0m\u001b[0m\n\u001b[1;32m--> 451\u001b[1;33m         \u001b[1;32mreturn\u001b[0m \u001b[0mlen\u001b[0m\u001b[1;33m(\u001b[0m\u001b[0mrecords\u001b[0m\u001b[1;33m)\u001b[0m\u001b[1;33m,\u001b[0m \u001b[1;36m0\u001b[0m\u001b[1;33m\u001b[0m\u001b[1;33m\u001b[0m\u001b[0m\n\u001b[0m\u001b[0;32m    452\u001b[0m \u001b[1;33m\u001b[0m\u001b[0m\n\u001b[0;32m    453\u001b[0m     \u001b[1;31m# Select filename, lineno, func_name to track frames with\u001b[0m\u001b[1;33m\u001b[0m\u001b[1;33m\u001b[0m\u001b[1;33m\u001b[0m\u001b[0m\n",
      "\u001b[1;31mTypeError\u001b[0m: object of type 'NoneType' has no len()"
     ]
    }
   ],
   "source": [
    "botnames = []\n",
    "verbose = False \n",
    "myphase = 1\n",
    "myrepeats = 10\n",
    "\n",
    "# Create player 1\n",
    "player1 = util.load_player(\"rand\") \n",
    "player2 = util.load_player(\"bully\")\n",
    "player3 = util.load_player(\"ml\")\n",
    "\n",
    "bots = [player1,player2,player3]\n",
    "\n",
    "n = len(bots)\n",
    "wins = [0] * len(bots)\n",
    "matches = [(p1, p2) for p1 in range(n) for p2 in range(n) if p1 < p2]\n",
    "\n",
    "totalgames = (n*n - n)/2 * myrepeats\n",
    "playedgames = 0\n",
    "\n",
    "print('Playing {} games:'.format(int(totalgames)))\n",
    "for a, b in matches:\n",
    "    for r in range(myrepeats):\n",
    "\n",
    "        if random.choice([True, False]):\n",
    "            p = [a, b]\n",
    "        else:\n",
    "            p = [b, a]\n",
    "\n",
    "        # Generate a state with a random seed\n",
    "        state = State.generate(phase=myphase)\n",
    "\n",
    "        winner, score = engine.play(bots[p[0]], bots[p[1]], state, 1000, verbose, True)\n",
    "\n",
    "        if winner is not None:\n",
    "            winner = p[winner - 1]\n",
    "            wins[winner] += score\n",
    "\n",
    "        playedgames += 1\n",
    "        print('Played {} out of {:.0f} games ({:.0f}%): {} \\r'.format(playedgames, totalgames, playedgames/float(totalgames) * 100, wins))\n",
    "\n",
    "print('Results:')\n",
    "for i in range(len(bots)):\n",
    "    print('    bot {}: {} points'.format(bots[i], wins[i]))\n"
   ]
  },
  {
   "cell_type": "markdown",
   "metadata": {},
   "source": [
    "I assume that the bots will win in the following order; ml > bully > rand"
   ]
  },
  {
   "cell_type": "markdown",
   "metadata": {},
   "source": [
    "### Task 2: \n",
    "\n",
    "The first thing we can do to improve the bot, is to improve the quality of the games it observes. Change the player in train-ml-bot.py to a kbbot and/or rdeep player, and retrain the model. You may wish to lower the number of games played in train-ml-bot.py if the games are taking a long time. Please describe in the following cell what you can observe when running a tournament like before after training ml. \n"
   ]
  },
  {
   "cell_type": "markdown",
   "metadata": {},
   "source": [
    "By retraining the bot with a better quality of a game, ml will be able to perform even better. Since kbbot and rdeep have stronger strategies, ml would be able to score higher and have the possibility to prevent the other bots to score any points. "
   ]
  },
  {
   "cell_type": "markdown",
   "metadata": {},
   "source": [
    "## Training in different phases\n",
    "\n",
    "Using alphabeta for training might not be a good idea, since it has to start in phase 2 with perfect information. This may not translate so well to phase 1 gameplay. Nevertheless, it is a good idea to experiment. If you wish to do this, you have to specify in train-ml-bot.py that the training games start in phase 2.\n",
    "\n",
    "### Task 3\n",
    "\n",
    "Re-run the tournament. Does the machine learning bot do better? Show the output, and mention which bot was used for training.\n"
   ]
  },
  {
   "cell_type": "markdown",
   "metadata": {},
   "source": [
    "By training it against rdeep ml will be able to win with a higher score gap with rand and bully since rdeep is the strongest bot that exists. "
   ]
  },
  {
   "cell_type": "markdown",
   "metadata": {},
   "source": [
    "## Testing more than one ML agent\n",
    "\n",
    "We will need a more robust way of testing different machine learning approaches against each other. Change the training script so that it doesn't overwrite the previous model. Now write a script that creates two ml players with different models and plays games between them. This might then look like this: \n",
    "\n",
    "> from bots.ml import ml<br>\n",
    "player1 = ml.Bot(model_file='./models/rand-model.pkl')<br>\n",
    "player2 = ml.Bot(model_file='./models/rdeep-model.pkl')\n",
    "\n",
    "Read and train-ml-bot.py carefully for inspiration.\n",
    "\n",
    "### Task 4\n",
    "\n",
    "Make three models: one by observing rand players, one by observing rdeep players, and one by observing one of the ml players you made earlier. Describe the experiments you run, and their results in the next cell. "
   ]
  },
  {
   "cell_type": "markdown",
   "metadata": {},
   "source": [
    "Rand model would be the one with the lowest grade since it is the weakest out of the players. Rdeep would be in the middle since it is the strongest discluding ml. The one that observed the ml players would have been able to score the highest with the biggest gap amongst the two others since it includes both the rand and rdeep observed players."
   ]
  },
  {
   "cell_type": "markdown",
   "metadata": {},
   "source": [
    "## Improving the set of features \n",
    "\n",
    "You may not see a lot of improvement for clever tricks like this. This is because the game has a lot of belief states, i.e. has an extremely broad search tree. The machine learning model only sees as small proportion, and chances are that no “similar” game has been described in the training set. Maybe the card deck and number of won or lost points. \n",
    "\n",
    "To improve this, we might need better features. Think of some simple additional features and add them to the features() method in ml.py.\n",
    "\n",
    "> Note that this means the bot can no longer use your old models, since they rely on 4-dimensional feature vectors. You'll most likely want to create a copy of ml.py for every feature-extraction strategy you would like to try, or add different feature extractors as a parameter to the bot.\n",
    "\n",
    "Feature extraction is an art. You want to translate the information in the state into numbers in a way that makes sense to a linear model. We'll discuss this in-depth in the lectures. To start with, just try and think of numbers you can compute from the state that are high if the state is good for player one and low if the state is bad. You might want to add combinations of important features to create a design matrix, as discussed in class. \n",
    "\n",
    "### Task 5\n",
    "Add some simple features and show that the player improves. Describe the features you added, copy their code and copy the result of the tournement into the following cell. "
   ]
  },
  {
   "cell_type": "markdown",
   "metadata": {},
   "source": [
    "I would add the feature to play all marriages when having the opportunity to as well as the royal marriage trick."
   ]
  },
  {
   "cell_type": "markdown",
   "metadata": {},
   "source": [
    "## Feature engineering \n",
    "\n",
    "Finally, since coming up with features is an ad-hoc business, you'll want to test features you come up with to see if they actually add to the performance. How would you go about this? Could there be features that depend on each other? Ie. add feature A or B separately and there's no improvement, but add them together and the bot gets better?\n",
    "\n",
    "### Task 6\n",
    "\n",
    "As shown in the lecture, adding the product of existing features (a design matrix) is a simple way to increase the power of your method without changing models.\n",
    "\n",
    "Try to add at least 2 combined features to your feature table and evaluate it in a number of tournaments. Describe the new features and copy the code in the next cell. \n",
    "\n",
    "Also, copy the result of the experiments and an interpretation in your own words. \n",
    "\n"
   ]
  },
  {
   "cell_type": "markdown",
   "metadata": {},
   "source": [
    "I would try to combine playing the marriage and in order to increase the possiblity to play a marriage, I would code it to keep the queen and kings and play the jack, 10 or ace instead unless the only cards left were queens and kings. In this case I would make sure that the queen or king played would not be from the trump suit. Moreover, I'd make sure that if the king or queen that was needed in order to play a marriage it would be categorized to be able to play and not keep anymore. "
   ]
  },
  {
   "cell_type": "markdown",
   "metadata": {},
   "source": [
    "## Knock yourself out\n",
    "\n",
    "Of course, there is a wealth of other things to explore. Here are some things you can try out which will be similar to the things to do for \n",
    "\n",
    "1) Have a look at the sklearn documentation: http://scikit-learn.org/stable/modules/classes.html It's a bit complex, but maybe you can figure how to use different machine learning models. The logistic regression we used is a very simple starting point.\n",
    "\n",
    "2) Evaluate your model on the dataset by cross validation. See if you can improve the performance by tweaking its parameters,\n",
    "\n",
    "Have fun. To be continued in Project Intelligent Systems in Period 3. "
   ]
  }
 ],
 "metadata": {
  "kernelspec": {
   "display_name": "Python 3",
   "language": "python",
   "name": "python3"
  },
  "language_info": {
   "codemirror_mode": {
    "name": "ipython",
    "version": 3
   },
   "file_extension": ".py",
   "mimetype": "text/x-python",
   "name": "python",
   "nbconvert_exporter": "python",
   "pygments_lexer": "ipython3",
   "version": "3.9.0"
  }
 },
 "nbformat": 4,
 "nbformat_minor": 4
}
